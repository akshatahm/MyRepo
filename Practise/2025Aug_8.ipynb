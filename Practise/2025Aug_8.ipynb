{
 "cells": [
  {
   "cell_type": "code",
   "execution_count": 16,
   "id": "ce2bdfbb-d070-4f61-99d0-b4fab63478ea",
   "metadata": {},
   "outputs": [
    {
     "name": "stdout",
     "output_type": "stream",
     "text": [
      "(1, 2, 3, 4, 5, 6)\n"
     ]
    }
   ],
   "source": [
    "#Task 6: Concatenate two tuples.Print the result.\n",
    "tup1 = (1, 2, 3)\n",
    "tup2 = (4, 5, 6) \n",
    "print(tup1+tup2)"
   ]
  },
  {
   "cell_type": "code",
   "execution_count": 27,
   "id": "7116c848-bdb3-4a57-b586-6ff015f35ac4",
   "metadata": {},
   "outputs": [
    {
     "data": {
      "text/plain": [
       "{'Pinky': 98, 'Minky': 85}"
      ]
     },
     "execution_count": 27,
     "metadata": {},
     "output_type": "execute_result"
    }
   ],
   "source": [
    "#Task 7: Create a dictionary of student names and scores. Print names of students with scores above 75.\n",
    "student_scores ={\n",
    "    'Pinky': 98,\n",
    "    'Chinky': 70,\n",
    "    'Minky': 85,\n",
    "    'Linky': 60\n",
    "}\n",
    "above_75 = {k:v  for k,v in student_scores.items() if v>75}\n",
    "above_75"
   ]
  },
  {
   "cell_type": "code",
   "execution_count": 48,
   "id": "662a1d87-adf6-4da8-a8a3-a491c4c9b35d",
   "metadata": {},
   "outputs": [
    {
     "data": {
      "text/plain": [
       "{'Pinky': 98, 'Chinky': 70, 'Minky': 85, 'Linky': 60, 'Ponky': 92}"
      ]
     },
     "execution_count": 48,
     "metadata": {},
     "output_type": "execute_result"
    }
   ],
   "source": [
    "#Task 8: Add a new key-value pair to an existing dictionary.\n",
    "key = 'Ponky'\n",
    "val=92\n",
    "student_scores.update({key:val})\n",
    "student_scores"
   ]
  },
  {
   "cell_type": "code",
   "execution_count": 49,
   "id": "356158a3-8c6f-4955-b204-9649dbf3fe20",
   "metadata": {},
   "outputs": [
    {
     "data": {
      "text/plain": [
       "{'python': 3, 'hello': 2, 'world': 1}"
      ]
     },
     "execution_count": 49,
     "metadata": {},
     "output_type": "execute_result"
    }
   ],
   "source": [
    "#Task 9: Count the frequency of each word in a given sentence using a dictionary.\n",
    "text = 'hello world hello python python python'\n",
    "word_cnt = {}\n",
    "for w in text.split():\n",
    "    if w in word_cnt:\n",
    "        cnt =  word_cnt[w]\n",
    "        word_cnt[w] = cnt+1\n",
    "    else:\n",
    "        word_cnt[w]=1\n",
    "\n",
    "word_cnt\n",
    "\n",
    "word_cnt1= dict(sorted(word_cnt.items(), key=lambda i : i[1], reverse=True))\n",
    "word_cnt1"
   ]
  },
  {
   "cell_type": "code",
   "execution_count": 47,
   "id": "82ad942c-5cbc-4009-8f93-3e575a813513",
   "metadata": {},
   "outputs": [
    {
     "name": "stdout",
     "output_type": "stream",
     "text": [
      "union: {1, 2, 3, 4, 5, 6, 7, 8}\n",
      "intersection: {4, 5}\n",
      "difference: {1, 2, 3}\n"
     ]
    }
   ],
   "source": [
    "#Task 10: Given two sets:\n",
    "# Write a program to print:\n",
    "# - The union of A and B\n",
    "# - The intersection of A and B\n",
    "# - The difference of A - B\n",
    "\n",
    "A = {1, 2, 3, 4, 5}\n",
    "B = {4, 5, 6, 7, 8}\n",
    "print('union:', A|B)\n",
    "print('intersection:', A&B)\n",
    "print('difference:', A-B)"
   ]
  },
  {
   "cell_type": "code",
   "execution_count": null,
   "id": "b116272f-a6a4-4a98-b1e3-018dce6c479b",
   "metadata": {},
   "outputs": [],
   "source": [
    "3"
   ]
  },
  {
   "cell_type": "code",
   "execution_count": 58,
   "id": "70b02ea0-5d41-444b-8b52-844a8d144b79",
   "metadata": {},
   "outputs": [
    {
     "name": "stdout",
     "output_type": "stream",
     "text": [
      "\n",
      "*\n",
      "**\n",
      "***\n",
      "****\n"
     ]
    }
   ],
   "source": [
    "#Task 15: Write a program to print the following pattern using a loop:\n",
    "#*\n",
    "#* *\n",
    "#* * *\n",
    "#* * * *\n",
    "#* * * * *\n",
    "s='*'\n",
    "for i in range(5):\n",
    "    print(s*i)"
   ]
  },
  {
   "cell_type": "code",
   "execution_count": null,
   "id": "b7b08b0a-bd58-4cf7-a0ed-fbbc3b52cb95",
   "metadata": {},
   "outputs": [],
   "source": []
  }
 ],
 "metadata": {
  "kernelspec": {
   "display_name": "Python 3 (ipykernel)",
   "language": "python",
   "name": "python3"
  },
  "language_info": {
   "codemirror_mode": {
    "name": "ipython",
    "version": 3
   },
   "file_extension": ".py",
   "mimetype": "text/x-python",
   "name": "python",
   "nbconvert_exporter": "python",
   "pygments_lexer": "ipython3",
   "version": "3.13.5"
  }
 },
 "nbformat": 4,
 "nbformat_minor": 5
}
