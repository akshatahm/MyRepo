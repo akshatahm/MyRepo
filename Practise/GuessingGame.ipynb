{
 "cells": [
  {
   "cell_type": "code",
   "execution_count": 1,
   "id": "44239211-0f87-48bf-b38b-b2ea39891393",
   "metadata": {},
   "outputs": [],
   "source": [
    "import random"
   ]
  },
  {
   "cell_type": "code",
   "execution_count": 13,
   "id": "68a1b823-b12c-4ad1-ad52-4f2acfd139c1",
   "metadata": {},
   "outputs": [
    {
     "name": "stdin",
     "output_type": "stream",
     "text": [
      "Guess the number... 2\n"
     ]
    },
    {
     "name": "stdout",
     "output_type": "stream",
     "text": [
      "Too low !\n"
     ]
    },
    {
     "name": "stdin",
     "output_type": "stream",
     "text": [
      "Guess the number... 4\n"
     ]
    },
    {
     "name": "stdout",
     "output_type": "stream",
     "text": [
      "Too low !\n"
     ]
    },
    {
     "name": "stdin",
     "output_type": "stream",
     "text": [
      "Guess the number... 6\n"
     ]
    },
    {
     "name": "stdout",
     "output_type": "stream",
     "text": [
      "Yay!! you guessed correctly 6\n"
     ]
    }
   ],
   "source": [
    "# user guessing nums betw 1-15\n",
    "random_num = random.randint(1,15)\n",
    "\n",
    "inp_num = -1\n",
    "\n",
    "while random_num != inp_num:\n",
    "    inp_num = int(input('Guess the number...'))\n",
    "    if inp_num < random_num:\n",
    "        print('Too low !')\n",
    "    elif inp_num > random_num:\n",
    "        print('Too high !')\n",
    "print(f'Yay!! you guessed correctly {random_num}')"
   ]
  },
  {
   "cell_type": "code",
   "execution_count": 24,
   "id": "220275be-8d53-487d-a40d-180d48c6a75b",
   "metadata": {},
   "outputs": [
    {
     "name": "stdout",
     "output_type": "stream",
     "text": [
      "please guess a number in your mind..Whenever response is requested if the num is correct, type l-low or h-high or c-correct\n"
     ]
    },
    {
     "name": "stdin",
     "output_type": "stream",
     "text": [
      "Is this the number? 8 : h\n",
      "Is this the number? 6 : h\n",
      "Is this the number? 4 : h\n",
      "Is this the number? 2 : l\n",
      "Is this the number? 3 : c\n"
     ]
    },
    {
     "name": "stdout",
     "output_type": "stream",
     "text": [
      "Yay!! I guessed correctly 3\n"
     ]
    }
   ],
   "source": [
    "# computer guessing nums betw min=1, max=10\n",
    "print('please guess a number in your mind..Whenever response is requested if the num is correct, type l-low or h-high or c-correct')\n",
    "inp = ''\n",
    "last_inp=''\n",
    "random_num = random.randint(1,10)\n",
    "while inp!='c':\n",
    "    inp = input(f'Is this the number? {random_num} :')\n",
    "    if inp == 'l':\n",
    "        if last_inp == 'h':\n",
    "            random_num = random_num+1\n",
    "        else:\n",
    "            random_num = random_num+2\n",
    "    elif inp == 'h':\n",
    "        if last_inp == 'l':\n",
    "            random_num = random_num-1\n",
    "        else:\n",
    "            random_num = random_num-2\n",
    "    last_inp = inp\n",
    "print(f'Yay!! I guessed correctly {random_num}')\n"
   ]
  },
  {
   "cell_type": "code",
   "execution_count": null,
   "id": "8db27e5e-9a3e-498b-8a83-157006279ff7",
   "metadata": {},
   "outputs": [],
   "source": []
  }
 ],
 "metadata": {
  "kernelspec": {
   "display_name": "Python 3 (ipykernel)",
   "language": "python",
   "name": "python3"
  },
  "language_info": {
   "codemirror_mode": {
    "name": "ipython",
    "version": 3
   },
   "file_extension": ".py",
   "mimetype": "text/x-python",
   "name": "python",
   "nbconvert_exporter": "python",
   "pygments_lexer": "ipython3",
   "version": "3.13.5"
  }
 },
 "nbformat": 4,
 "nbformat_minor": 5
}
