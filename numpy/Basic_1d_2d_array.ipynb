{
 "cells": [
  {
   "cell_type": "code",
   "execution_count": 25,
   "id": "67824d17-0fd6-4932-b8da-1d98c1c7f4d8",
   "metadata": {},
   "outputs": [
    {
     "data": {
      "text/plain": [
       "array([10, 20, 30])"
      ]
     },
     "execution_count": 25,
     "metadata": {},
     "output_type": "execute_result"
    }
   ],
   "source": [
    "import numpy as np\n",
    "\n",
    "############ 1-d array  ############\n",
    "a1d = np.array([10,20,30])\n",
    "a1d"
   ]
  },
  {
   "cell_type": "code",
   "execution_count": 22,
   "id": "0f274963-d273-4ff5-a56c-2238debbd801",
   "metadata": {},
   "outputs": [
    {
     "data": {
      "text/plain": [
       "1"
      ]
     },
     "execution_count": 22,
     "metadata": {},
     "output_type": "execute_result"
    }
   ],
   "source": [
    "# dimension of nda\n",
    "a1d.ndim"
   ]
  },
  {
   "cell_type": "code",
   "execution_count": 23,
   "id": "c5fd0e9a-5c3b-4106-896e-48d85bb5e023",
   "metadata": {},
   "outputs": [
    {
     "data": {
      "text/plain": [
       "(3,)"
      ]
     },
     "execution_count": 23,
     "metadata": {},
     "output_type": "execute_result"
    }
   ],
   "source": [
    "# shape of nda\n",
    "np.shape(a1d)"
   ]
  },
  {
   "cell_type": "code",
   "execution_count": 26,
   "id": "b1d35f08-bc84-4c17-819c-84fd18269ce4",
   "metadata": {},
   "outputs": [
    {
     "data": {
      "text/plain": [
       "np.float64(20.0)"
      ]
     },
     "execution_count": 26,
     "metadata": {},
     "output_type": "execute_result"
    }
   ],
   "source": [
    "# mean of nda\n",
    "np.mean(a1d)"
   ]
  },
  {
   "cell_type": "code",
   "execution_count": 31,
   "id": "cd547211-0ca1-4fc1-b0d4-01f379a3b4ed",
   "metadata": {},
   "outputs": [
    {
     "data": {
      "text/plain": [
       "[[1, 2, 3], [4, 5, 6]]"
      ]
     },
     "execution_count": 31,
     "metadata": {},
     "output_type": "execute_result"
    }
   ],
   "source": [
    "############ 2-d array ############\n",
    "ls2d = [[1,2,3],[4,5,6]]\n",
    "ls2d"
   ]
  },
  {
   "cell_type": "code",
   "execution_count": 32,
   "id": "c0c665ee-38a9-48cd-8af6-6429bf18a99f",
   "metadata": {},
   "outputs": [
    {
     "data": {
      "text/plain": [
       "array([[1, 2, 3],\n",
       "       [4, 5, 6]])"
      ]
     },
     "execution_count": 32,
     "metadata": {},
     "output_type": "execute_result"
    }
   ],
   "source": [
    "a2d = np.array(ls2d)\n",
    "a2d"
   ]
  },
  {
   "cell_type": "code",
   "execution_count": 33,
   "id": "330b2449-fa1e-4523-8f97-a65bdc65c660",
   "metadata": {},
   "outputs": [
    {
     "data": {
      "text/plain": [
       "2"
      ]
     },
     "execution_count": 33,
     "metadata": {},
     "output_type": "execute_result"
    }
   ],
   "source": [
    "len(ls2d)"
   ]
  },
  {
   "cell_type": "code",
   "execution_count": 34,
   "id": "b042598e-f467-4d5e-913b-0ed9c3ae9b18",
   "metadata": {},
   "outputs": [
    {
     "data": {
      "text/plain": [
       "(2, 3)"
      ]
     },
     "execution_count": 34,
     "metadata": {},
     "output_type": "execute_result"
    }
   ],
   "source": [
    "np.shape(a2d)"
   ]
  },
  {
   "cell_type": "code",
   "execution_count": null,
   "id": "343610b2-0fde-4ff2-905e-f26d88ddc271",
   "metadata": {},
   "outputs": [],
   "source": []
  }
 ],
 "metadata": {
  "kernelspec": {
   "display_name": "Python 3 (ipykernel)",
   "language": "python",
   "name": "python3"
  },
  "language_info": {
   "codemirror_mode": {
    "name": "ipython",
    "version": 3
   },
   "file_extension": ".py",
   "mimetype": "text/x-python",
   "name": "python",
   "nbconvert_exporter": "python",
   "pygments_lexer": "ipython3",
   "version": "3.13.5"
  }
 },
 "nbformat": 4,
 "nbformat_minor": 5
}
