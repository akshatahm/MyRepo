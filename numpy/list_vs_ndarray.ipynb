{
 "cells": [
  {
   "cell_type": "code",
   "execution_count": 2,
   "id": "9e0b6fd1-36b6-428b-9c24-7f430970c24b",
   "metadata": {},
   "outputs": [
    {
     "data": {
      "text/plain": [
       "[[1, 2, 3], [4, 5, 6]]"
      ]
     },
     "execution_count": 2,
     "metadata": {},
     "output_type": "execute_result"
    }
   ],
   "source": [
    "####### list vs nd-array (addition)  ###########\n",
    "\n",
    "import numpy as np\n",
    "\n",
    "\n",
    "ls2d = [[1,2,3],[4,5,6]]\n",
    "a2d = np.array(ls2d)\n",
    "\n",
    "ls2d"
   ]
  },
  {
   "cell_type": "code",
   "execution_count": 3,
   "id": "53524630-702e-44b3-a9e8-46f9a727678d",
   "metadata": {},
   "outputs": [
    {
     "data": {
      "text/plain": [
       "array([[1, 2, 3],\n",
       "       [4, 5, 6]])"
      ]
     },
     "execution_count": 3,
     "metadata": {},
     "output_type": "execute_result"
    }
   ],
   "source": [
    "a2d"
   ]
  },
  {
   "cell_type": "code",
   "execution_count": 11,
   "id": "1d220940-0de0-4d06-abc4-6c17064d75b5",
   "metadata": {},
   "outputs": [
    {
     "data": {
      "text/plain": [
       "[[1, 2, 3], [4, 5, 6], [1, 2, 3], [4, 5, 6]]"
      ]
     },
     "execution_count": 11,
     "metadata": {},
     "output_type": "execute_result"
    }
   ],
   "source": [
    "####  addition  ####\n",
    "ls2d_1 = ls2d[::]\n",
    "a2d_1 = a2d.copy()\n",
    "\n",
    "ls_add = ls2d + ls2d_1     # appends ls1 and ls2\n",
    "a_add = a2d + a2d_1        # adds x1 with x2\n",
    "\n",
    "ls_add  "
   ]
  },
  {
   "cell_type": "code",
   "execution_count": 10,
   "id": "28f57a5a-010f-494c-844d-52325292a6a5",
   "metadata": {},
   "outputs": [
    {
     "data": {
      "text/plain": [
       "array([[ 2,  4,  6],\n",
       "       [ 8, 10, 12]])"
      ]
     },
     "execution_count": 10,
     "metadata": {},
     "output_type": "execute_result"
    }
   ],
   "source": [
    "a_add    "
   ]
  },
  {
   "cell_type": "code",
   "execution_count": null,
   "id": "9eb79c79-3805-4a82-9cfc-74e4bcbf62c6",
   "metadata": {},
   "outputs": [],
   "source": []
  },
  {
   "cell_type": "code",
   "execution_count": 12,
   "id": "35be581e-27d7-43b7-8e61-2ea1100af95e",
   "metadata": {},
   "outputs": [
    {
     "data": {
      "text/plain": [
       "array([[1.        , 1.41421356, 1.73205081],\n",
       "       [2.        , 2.23606798, 2.44948974]])"
      ]
     },
     "execution_count": 12,
     "metadata": {},
     "output_type": "execute_result"
    }
   ],
   "source": [
    "#### sqrt ####\n",
    "\n",
    "np.sqrt(a2d)\n"
   ]
  },
  {
   "cell_type": "code",
   "execution_count": null,
   "id": "ff8e1aa6-da00-4b50-bd13-c911055a2a09",
   "metadata": {},
   "outputs": [],
   "source": []
  },
  {
   "cell_type": "code",
   "execution_count": null,
   "id": "6c9aef69-ff81-4ca9-892d-f1a33a69990f",
   "metadata": {},
   "outputs": [],
   "source": []
  },
  {
   "cell_type": "code",
   "execution_count": null,
   "id": "2afaaf9c-0428-4204-a8dc-0643daa64287",
   "metadata": {},
   "outputs": [],
   "source": []
  }
 ],
 "metadata": {
  "kernelspec": {
   "display_name": "Python 3 (ipykernel)",
   "language": "python",
   "name": "python3"
  },
  "language_info": {
   "codemirror_mode": {
    "name": "ipython",
    "version": 3
   },
   "file_extension": ".py",
   "mimetype": "text/x-python",
   "name": "python",
   "nbconvert_exporter": "python",
   "pygments_lexer": "ipython3",
   "version": "3.13.5"
  }
 },
 "nbformat": 4,
 "nbformat_minor": 5
}
