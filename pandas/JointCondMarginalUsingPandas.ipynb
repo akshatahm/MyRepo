{
 "cells": [
  {
   "cell_type": "code",
   "execution_count": 3,
   "id": "a12b00f2-c40d-4c3c-86f0-225041cfb1dc",
   "metadata": {},
   "outputs": [
    {
     "data": {
      "text/html": [
       "<div>\n",
       "<style scoped>\n",
       "    .dataframe tbody tr th:only-of-type {\n",
       "        vertical-align: middle;\n",
       "    }\n",
       "\n",
       "    .dataframe tbody tr th {\n",
       "        vertical-align: top;\n",
       "    }\n",
       "\n",
       "    .dataframe thead th {\n",
       "        text-align: right;\n",
       "    }\n",
       "</style>\n",
       "<table border=\"1\" class=\"dataframe\">\n",
       "  <thead>\n",
       "    <tr style=\"text-align: right;\">\n",
       "      <th></th>\n",
       "      <th>Male</th>\n",
       "      <th>Female</th>\n",
       "    </tr>\n",
       "  </thead>\n",
       "  <tbody>\n",
       "    <tr>\n",
       "      <th>News</th>\n",
       "      <td>0.1</td>\n",
       "      <td>0.2</td>\n",
       "    </tr>\n",
       "    <tr>\n",
       "      <th>Drama</th>\n",
       "      <td>0.3</td>\n",
       "      <td>0.4</td>\n",
       "    </tr>\n",
       "  </tbody>\n",
       "</table>\n",
       "</div>"
      ],
      "text/plain": [
       "       Male  Female\n",
       "News    0.1     0.2\n",
       "Drama   0.3     0.4"
      ]
     },
     "execution_count": 3,
     "metadata": {},
     "output_type": "execute_result"
    }
   ],
   "source": [
    "import pandas as pd\n",
    "\n",
    "data = {'Male': [0.1, 0.3],\n",
    "        'Female': [0.2, 0.4]}\n",
    "\n",
    "df = pd.DataFrame(data, index=['News', 'Drama'])\n",
    "\n",
    "df"
   ]
  },
  {
   "cell_type": "code",
   "execution_count": 21,
   "id": "33a65560-b8be-42d8-9e12-a86fa8a14652",
   "metadata": {},
   "outputs": [
    {
     "name": "stdout",
     "output_type": "stream",
     "text": [
      "Marginal Prob P(News): 0.30000000000000004\n",
      "Marginal Prob P(Drama): 0.7\n",
      "Marginal Prob P(Male): 0.4\n",
      "Marginal Prob P(Female): 0.6000000000000001\n"
     ]
    }
   ],
   "source": [
    "print('Marginal Prob P(News):', df.loc['News'].sum())\n",
    "print('Marginal Prob P(Drama):', df.loc['Drama'].sum())\n",
    "\n",
    "print('Marginal Prob P(Male):', df.loc[:,'Male'].sum())\n",
    "print('Marginal Prob P(Female):', df.loc[:,'Female'].sum())"
   ]
  },
  {
   "cell_type": "code",
   "execution_count": 22,
   "id": "3cebe26f-7c84-486d-81be-f5b900aba34b",
   "metadata": {},
   "outputs": [
    {
     "name": "stdout",
     "output_type": "stream",
     "text": [
      "Joint Prob P(News and Male): 0.1\n",
      "Joint Prob P(News and Female): 0.2\n",
      "Joint Prob P(Drama and Male): 0.3\n",
      "Joint Prob P(Drama and Female): 0.4\n"
     ]
    }
   ],
   "source": [
    "print('Joint Prob P(News and Male):', df.loc['News', 'Male'])\n",
    "print('Joint Prob P(News and Female):', df.loc['News', 'Female'])\n",
    "print('Joint Prob P(Drama and Male):', df.loc['Drama', 'Male'])\n",
    "print('Joint Prob P(Drama and Female):', df.loc['Drama', 'Female'])"
   ]
  },
  {
   "cell_type": "code",
   "execution_count": 23,
   "id": "7cad9f6a-7790-454e-bbd9-3e9e36562e5a",
   "metadata": {},
   "outputs": [
    {
     "name": "stdout",
     "output_type": "stream",
     "text": [
      "Conditional Prob P(News|Male): 0.25\n",
      "Conditional Prob P(Drama|Male): 0.7499999999999999\n",
      "Conditional Prob P(News|Female): 0.3333333333333333\n",
      "Conditional Prob P(Drama|Female): 0.6666666666666666\n"
     ]
    }
   ],
   "source": [
    "print('Conditional Prob P(News|Male):', df.loc['News', 'Male']/df.loc[:,'Male'].sum())\n",
    "print('Conditional Prob P(Drama|Male):', df.loc['Drama', 'Male']/df.loc[:,'Male'].sum())\n",
    "print('Conditional Prob P(News|Female):', df.loc['News', 'Female']/df.loc[:,'Female'].sum())\n",
    "print('Conditional Prob P(Drama|Female):', df.loc['Drama', 'Female']/df.loc[:,'Female'].sum())"
   ]
  },
  {
   "cell_type": "code",
   "execution_count": null,
   "id": "2ff6f2b4-7084-40fd-84c8-0d46c824b7c0",
   "metadata": {},
   "outputs": [],
   "source": []
  },
  {
   "cell_type": "code",
   "execution_count": null,
   "id": "5681602b-3c64-40d1-9e3b-6a40ac81185d",
   "metadata": {},
   "outputs": [],
   "source": []
  }
 ],
 "metadata": {
  "kernelspec": {
   "display_name": "Python 3 (ipykernel)",
   "language": "python",
   "name": "python3"
  },
  "language_info": {
   "codemirror_mode": {
    "name": "ipython",
    "version": 3
   },
   "file_extension": ".py",
   "mimetype": "text/x-python",
   "name": "python",
   "nbconvert_exporter": "python",
   "pygments_lexer": "ipython3",
   "version": "3.13.5"
  }
 },
 "nbformat": 4,
 "nbformat_minor": 5
}
