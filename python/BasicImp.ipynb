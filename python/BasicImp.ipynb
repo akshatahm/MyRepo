{
 "cells": [
  {
   "cell_type": "code",
   "execution_count": 9,
   "id": "2658bc7c-e4c1-4fa6-93ee-c4924f3a97a1",
   "metadata": {},
   "outputs": [
    {
     "name": "stdout",
     "output_type": "stream",
     "text": [
      "AA , 2000 , IN\n",
      "BB , 3000 , IN\n",
      "CC , 1500 , IN\n",
      "DD , 5000 , IN\n",
      "EE , 4000 , IN\n",
      "highest salary: ('DD', 5000)\n",
      "name: DD\n",
      "sal: 5000\n"
     ]
    }
   ],
   "source": [
    "#### IMP ####  function takes a list of tuples\n",
    "\n",
    "def getHighestSalary(ls):\n",
    "    h_sal =0\n",
    "    h_name=None\n",
    "    for name, sal, loc in ls:\n",
    "        print(name,',',sal,',',loc)\n",
    "        if sal > h_sal:\n",
    "            h_sal = sal\n",
    "            h_name = name\n",
    "    return (h_name, h_sal)\n",
    "\n",
    "\n",
    "ls = [\n",
    "    ('AA', 2000, 'IN'),\n",
    "    ('BB', 3000, 'IN'),\n",
    "    ('CC', 1500, 'IN'),\n",
    "    ('DD', 5000, 'IN'),\n",
    "    ('EE', 4000, 'IN')\n",
    "]\n",
    "\n",
    "res = getHighestSalary(ls)\n",
    "print('highest salary:', res)\n",
    "print('name:', res[0])\n",
    "print('sal:', res[1])\n",
    "    "
   ]
  },
  {
   "cell_type": "code",
   "execution_count": null,
   "id": "81199d4c-b080-4731-89dd-6664b5de5543",
   "metadata": {},
   "outputs": [],
   "source": []
  },
  {
   "cell_type": "code",
   "execution_count": null,
   "id": "6eb07fb0-f3ea-43bb-aa30-53301131f7b8",
   "metadata": {},
   "outputs": [],
   "source": []
  }
 ],
 "metadata": {
  "kernelspec": {
   "display_name": "Python 3 (ipykernel)",
   "language": "python",
   "name": "python3"
  },
  "language_info": {
   "codemirror_mode": {
    "name": "ipython",
    "version": 3
   },
   "file_extension": ".py",
   "mimetype": "text/x-python",
   "name": "python",
   "nbconvert_exporter": "python",
   "pygments_lexer": "ipython3",
   "version": "3.13.5"
  }
 },
 "nbformat": 4,
 "nbformat_minor": 5
}
