{
 "cells": [
  {
   "cell_type": "code",
   "execution_count": 9,
   "id": "2658bc7c-e4c1-4fa6-93ee-c4924f3a97a1",
   "metadata": {},
   "outputs": [
    {
     "name": "stdout",
     "output_type": "stream",
     "text": [
      "AA , 2000 , IN\n",
      "BB , 3000 , IN\n",
      "CC , 1500 , IN\n",
      "DD , 5000 , IN\n",
      "EE , 4000 , IN\n",
      "highest salary: ('DD', 5000)\n",
      "name: DD\n",
      "sal: 5000\n"
     ]
    }
   ],
   "source": [
    "#### IMP ####  function takes a list of tuples\n",
    "\n",
    "def getHighestSalary(ls):\n",
    "    h_sal =0\n",
    "    h_name=None\n",
    "    for name, sal, loc in ls:\n",
    "        print(name,',',sal,',',loc)\n",
    "        if sal > h_sal:\n",
    "            h_sal = sal\n",
    "            h_name = name\n",
    "    return (h_name, h_sal)\n",
    "\n",
    "\n",
    "ls = [\n",
    "    ('AA', 2000, 'IN'),\n",
    "    ('BB', 3000, 'IN'),\n",
    "    ('CC', 1500, 'IN'),\n",
    "    ('DD', 5000, 'IN'),\n",
    "    ('EE', 4000, 'IN')\n",
    "]\n",
    "\n",
    "res = getHighestSalary(ls)\n",
    "print('highest salary:', res)\n",
    "print('name:', res[0])\n",
    "print('sal:', res[1])\n",
    "    "
   ]
  },
  {
   "cell_type": "code",
   "execution_count": 1,
   "id": "81199d4c-b080-4731-89dd-6664b5de5543",
   "metadata": {},
   "outputs": [
    {
     "name": "stdout",
     "output_type": "stream",
     "text": [
      "hi\n",
      "good\n",
      "morning\n"
     ]
    }
   ],
   "source": [
    "#### IMP ####  *args\n",
    "\n",
    "def fun_multiple_var(*arg):\n",
    "    for a in arg:\n",
    "        print(a)\n",
    "\n",
    "fun_multiple_var('hi','good','morning')\n"
   ]
  },
  {
   "cell_type": "code",
   "execution_count": 2,
   "id": "6eb07fb0-f3ea-43bb-aa30-53301131f7b8",
   "metadata": {},
   "outputs": [
    {
     "name": "stdout",
     "output_type": "stream",
     "text": [
      "name : AAA\n",
      "email : good@gmail.com\n",
      "age : 30\n"
     ]
    }
   ],
   "source": [
    "#### IMP ####  **kwargs\n",
    "\n",
    "def fun_map(**arg):\n",
    "    for k,v in arg.items():\n",
    "        print(k,':',v)\n",
    "\n",
    "fun_map(name='AAA',email='good@gmail.com',age=30)\n"
   ]
  },
  {
   "cell_type": "code",
   "execution_count": 4,
   "id": "041a1c46-d7e4-4628-b1bb-f51aebff8494",
   "metadata": {},
   "outputs": [
    {
     "name": "stdout",
     "output_type": "stream",
     "text": [
      "H\n",
      "e\n",
      "10\n",
      "20\n",
      "AAPL,50,(12, 10, 2022)\n"
     ]
    }
   ],
   "source": [
    "#### IMP unpacking variables (*)\n",
    "s = 'Hello'\n",
    "a,b,c,d,e = s\n",
    "print(a)\n",
    "print(b)\n",
    "ls = [10,20,30]\n",
    "l1,l2,l3 = ls\n",
    "print(l1)\n",
    "print(l2)\n",
    "tp = ('AAPL', 50, (12, 10, 2022))\n",
    "name, qty, date = tp\n",
    "print(f'{name},{qty},{date}')\n"
   ]
  },
  {
   "cell_type": "code",
   "execution_count": 9,
   "id": "2c20258b-a4ab-4794-b369-1c89dae4ccd1",
   "metadata": {},
   "outputs": [
    {
     "name": "stdout",
     "output_type": "stream",
     "text": [
      "AAPL,2022\n",
      "12 10\n"
     ]
    }
   ],
   "source": [
    "### unpacking only required ones\n",
    "tp = ('AAPL', 50, (12, 10, 2022))\n",
    "name, *_, (*_, year) = tp\n",
    "print(f'{name},{year}')\n",
    "print(*_)  # ignored\n"
   ]
  },
  {
   "cell_type": "code",
   "execution_count": 26,
   "id": "1a34e064-32b4-486b-8dba-4f56b89bd3da",
   "metadata": {},
   "outputs": [
    {
     "name": "stdout",
     "output_type": "stream",
     "text": [
      "[91, 33, 48, 47, 20, 95, 7, 35]\n",
      "largest1: [95]\n",
      "largest3: [95, 91, 48]\n",
      "smallest1: [7]\n",
      "largest_qty: [{'name': 'Microsoft Corp', 'tkr': 'MSFT.US', 'qty': 500, 'cost': 22, 'date': -2011}]\n"
     ]
    }
   ],
   "source": [
    "### IMP heapq ( for finding/seraching smalles/largest, also based on key)\n",
    "\n",
    "import heapq\n",
    "ls = [91,   33,   48,   47,   20,   95,    7,   35]\n",
    "print(ls)\n",
    "largest1 = heapq.nlargest(1, ls)\n",
    "print('largest1:',largest1)\n",
    "largest3 = heapq.nlargest(3, ls)\n",
    "print('largest3:',largest3)\n",
    "\n",
    "smallest1 = heapq.nsmallest(1, ls)\n",
    "print('smallest1:',smallest1)\n",
    "\n",
    "#######################################################################\n",
    "# custom\n",
    "list_of_map = [\n",
    "    {'name':'Apple Inc', 'tkr':'AAPL.US', 'qty':50, 'cost':42, 'date':12-10-2022},\n",
    "    {'name':'Microsoft Corp', 'tkr':'MSFT.US', 'qty':500, 'cost':22, 'date':20-10-2021},\n",
    "    {'name':'Dell', 'tkr':'DELL.US', 'qty':10, 'cost':12, 'date':12-10-2020}\n",
    "]\n",
    "#print(list_of_map)\n",
    "largest_qty = heapq.nlargest(1, list_of_map, key= lambda s : s['qty'])\n",
    "print('largest_qty:',largest_qty)\n"
   ]
  },
  {
   "cell_type": "code",
   "execution_count": 31,
   "id": "b94f3670-e00d-4fb6-8eb3-7f57d176c762",
   "metadata": {},
   "outputs": [
    {
     "name": "stdout",
     "output_type": "stream",
     "text": [
      "[('Alice', 30, 'New York'), ('Bob', 24, 'London'), ('Charlie', 35, 'Paris')]\n",
      "[('Bob', 24, 'London')]\n"
     ]
    }
   ],
   "source": [
    "# heapq(custom search with keys)\n",
    "#######################################################################\n",
    "ls_mp = [\n",
    "    {\"fname\": \"Alice\", \"age\": 30, \"city\": \"New York\"},\n",
    "    {\"fname\": \"Bob\", \"age\": 24, \"city\": \"London\"},\n",
    "    {\"fname\": \"Charlie\", \"age\": 35, \"city\": \"Paris\"}\n",
    "]\n",
    "heap =[]\n",
    "for l in ls_mp:\n",
    "    heapq.heappush(heap, (l['fname'], l['age'], l['city']))\n",
    "\n",
    "print(heap)    \n",
    "\n",
    "youngest = heapq.nsmallest(1, heap, key=lambda a: a[1])\n",
    "print(youngest)"
   ]
  },
  {
   "cell_type": "code",
   "execution_count": null,
   "id": "b6dd691e-098e-4d59-98aa-1f3f5d376220",
   "metadata": {},
   "outputs": [],
   "source": []
  }
 ],
 "metadata": {
  "kernelspec": {
   "display_name": "Python 3 (ipykernel)",
   "language": "python",
   "name": "python3"
  },
  "language_info": {
   "codemirror_mode": {
    "name": "ipython",
    "version": 3
   },
   "file_extension": ".py",
   "mimetype": "text/x-python",
   "name": "python",
   "nbconvert_exporter": "python",
   "pygments_lexer": "ipython3",
   "version": "3.13.5"
  }
 },
 "nbformat": 4,
 "nbformat_minor": 5
}
