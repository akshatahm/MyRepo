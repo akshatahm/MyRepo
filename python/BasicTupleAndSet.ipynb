{
 "cells": [
  {
   "cell_type": "code",
   "execution_count": 1,
   "id": "75194552-61c0-497c-9635-51df88ee07d9",
   "metadata": {},
   "outputs": [
    {
     "data": {
      "text/plain": [
       "()"
      ]
     },
     "execution_count": 1,
     "metadata": {},
     "output_type": "execute_result"
    }
   ],
   "source": [
    "# empty tuple \n",
    "my_tup = ()\n",
    "\n",
    "my_tup"
   ]
  },
  {
   "cell_type": "code",
   "execution_count": 4,
   "id": "94c110d2-7f0a-44d0-b5d2-abbc2e351e59",
   "metadata": {},
   "outputs": [
    {
     "data": {
      "text/plain": [
       "(5, 5)"
      ]
     },
     "execution_count": 4,
     "metadata": {},
     "output_type": "execute_result"
    }
   ],
   "source": [
    "# add an element to tuple (if sinlge element then append ',' )\n",
    "my_tup = my_tup + (5,)\n",
    "my_tup"
   ]
  },
  {
   "cell_type": "code",
   "execution_count": null,
   "id": "5064a838-87d7-4e8e-8546-a31ac347f8ca",
   "metadata": {},
   "outputs": [],
   "source": []
  },
  {
   "cell_type": "code",
   "execution_count": 5,
   "id": "998b5fa2-4f44-4f12-b875-f38e2dd55896",
   "metadata": {},
   "outputs": [
    {
     "data": {
      "text/plain": [
       "dict"
      ]
     },
     "execution_count": 5,
     "metadata": {},
     "output_type": "execute_result"
    }
   ],
   "source": [
    "# empty set and dict\n",
    "my_set = {}   # '{}' is for empty dict not set\n",
    "type(my_set)"
   ]
  },
  {
   "cell_type": "code",
   "execution_count": 6,
   "id": "56042105-693a-4824-bae7-13435101afe5",
   "metadata": {},
   "outputs": [
    {
     "data": {
      "text/plain": [
       "set"
      ]
     },
     "execution_count": 6,
     "metadata": {},
     "output_type": "execute_result"
    }
   ],
   "source": [
    "my_set = set()  ## IMP\n",
    "type(my_set)"
   ]
  },
  {
   "cell_type": "code",
   "execution_count": 7,
   "id": "a46973c5-8841-40ea-93c0-a7c6caaa30c4",
   "metadata": {},
   "outputs": [
    {
     "data": {
      "text/plain": [
       "{}"
      ]
     },
     "execution_count": 7,
     "metadata": {},
     "output_type": "execute_result"
    }
   ],
   "source": [
    "my_dict = {}\n",
    "my_dict"
   ]
  },
  {
   "cell_type": "code",
   "execution_count": 9,
   "id": "d59d54a8-9de0-4e08-8212-91f59f1cc70f",
   "metadata": {},
   "outputs": [
    {
     "data": {
      "text/plain": [
       "{10}"
      ]
     },
     "execution_count": 9,
     "metadata": {},
     "output_type": "execute_result"
    }
   ],
   "source": [
    "# adding element to set\n",
    "my_set.add(10)\n",
    "my_set.add(10)\n",
    "my_set"
   ]
  },
  {
   "cell_type": "code",
   "execution_count": 10,
   "id": "b6861dd0-353f-42ba-9ef0-4e6095f76de5",
   "metadata": {},
   "outputs": [
    {
     "data": {
      "text/plain": [
       "{10: 'ten'}"
      ]
     },
     "execution_count": 10,
     "metadata": {},
     "output_type": "execute_result"
    }
   ],
   "source": [
    "# adding element to dict\n",
    "my_dict.update({10: 'ten'})\n",
    "my_dict"
   ]
  },
  {
   "cell_type": "code",
   "execution_count": null,
   "id": "4f8e294a-1fae-485e-ab43-d536aca9cf8a",
   "metadata": {},
   "outputs": [],
   "source": []
  }
 ],
 "metadata": {
  "kernelspec": {
   "display_name": "Python 3 (ipykernel)",
   "language": "python",
   "name": "python3"
  },
  "language_info": {
   "codemirror_mode": {
    "name": "ipython",
    "version": 3
   },
   "file_extension": ".py",
   "mimetype": "text/x-python",
   "name": "python",
   "nbconvert_exporter": "python",
   "pygments_lexer": "ipython3",
   "version": "3.13.5"
  }
 },
 "nbformat": 4,
 "nbformat_minor": 5
}
