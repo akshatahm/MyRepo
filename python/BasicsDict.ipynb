{
 "cells": [
  {
   "cell_type": "code",
   "execution_count": 4,
   "id": "d9dea4fd-aea0-472d-a1d4-759dd2e11ee1",
   "metadata": {},
   "outputs": [
    {
     "name": "stdout",
     "output_type": "stream",
     "text": [
      "{'name': 'AAA', 'age': 20, 'country': 'IN'}\n",
      "AAA\n"
     ]
    }
   ],
   "source": [
    "# dict\n",
    "map1 = {'name':'AAA', 'age': 20, 'country':'IN'}\n",
    "print(map1)\n",
    "print(map1['name'])\n"
   ]
  },
  {
   "cell_type": "code",
   "execution_count": 5,
   "id": "a40379ed-c72d-40c9-b6b0-2dac41cc0d53",
   "metadata": {},
   "outputs": [
    {
     "name": "stdout",
     "output_type": "stream",
     "text": [
      "{'name': 'AAA', 'age': 20, 'country': 'IN', 'lname': 'XXX', 'city': 'MMM'}\n"
     ]
    }
   ],
   "source": [
    "##### IMP #####  put\n",
    "map1.update({'lname':'XXX' ,  'city':'MMM'})\n",
    "print(map1)\n"
   ]
  },
  {
   "cell_type": "code",
   "execution_count": 6,
   "id": "38d6bdcd-43f6-4dc2-a0b3-c8f4e61ae012",
   "metadata": {},
   "outputs": [
    {
     "name": "stdout",
     "output_type": "stream",
     "text": [
      "{'name': 'AAA', 'age': 20, 'country': 'IN', 'city': 'MMM'}\n"
     ]
    }
   ],
   "source": [
    "##### IMP #####  remove/pop ( here pop can remove any key need not be the last one)\n",
    "map1.pop('lname')\n",
    "print(map1)\n"
   ]
  },
  {
   "cell_type": "code",
   "execution_count": 7,
   "id": "4ee205d3-67be-4f29-815a-cea331654cc5",
   "metadata": {},
   "outputs": [
    {
     "name": "stdout",
     "output_type": "stream",
     "text": [
      "name : AAA\n",
      "age : 20\n",
      "country : IN\n",
      "city : MMM\n",
      "********************\n",
      "name\n",
      "age\n",
      "country\n",
      "city\n",
      "********************\n",
      "AAA\n",
      "20\n",
      "IN\n",
      "MMM\n",
      "********************\n"
     ]
    }
   ],
   "source": [
    "# iteration #1\n",
    "for k, v in map1.items():\n",
    "    print(k,':',v)\n",
    "\n",
    "print('*'*20)\n",
    "\n",
    "# iteration #2 only keys\n",
    "for k in map1.keys():\n",
    "    print(k)\n",
    "\n",
    "print('*'*20)\n",
    "\n",
    "# iteration #3 only values\n",
    "for v in map1.values():\n",
    "    print(v)\n",
    "\n",
    "print('*'*20)"
   ]
  },
  {
   "cell_type": "code",
   "execution_count": 8,
   "id": "fd5d27c7-a786-49fa-9bb5-41bb45740099",
   "metadata": {},
   "outputs": [
    {
     "name": "stdout",
     "output_type": "stream",
     "text": [
      "append _Hi (MAP fn): ['AAA_Hi', '20_Hi', 'IN_Hi', 'MMM_Hi']\n"
     ]
    }
   ],
   "source": [
    "##### IMP #####  alternative to 'for' loop for dict: MAP function\n",
    "def appendHi(i):\n",
    "    return str(i)+'_Hi'\n",
    "\n",
    "mapRes = map(appendHi, map1.values())                 # MAP function\n",
    "print('append _Hi (MAP fn):', list(mapRes))"
   ]
  },
  {
   "cell_type": "code",
   "execution_count": 9,
   "id": "559ca4b3-6c20-4df4-8ae9-df3f550e4b11",
   "metadata": {},
   "outputs": [
    {
     "name": "stdout",
     "output_type": "stream",
     "text": [
      "is str value (FILTER fn): ['AAA', 'IN', 'MMM']\n"
     ]
    }
   ],
   "source": [
    "##### IMP ##### alternative to 'for' loop for dict: FILTER function\n",
    "def isStrValue(i):\n",
    "    return type(i)==str\n",
    "mapRes = filter(isStrValue, map1.values())             # FILTER function\n",
    "print('is str value (FILTER fn):', list(mapRes))\n"
   ]
  },
  {
   "cell_type": "code",
   "execution_count": 5,
   "id": "80bafb78-2d70-4d0f-9c5e-9b512ac268aa",
   "metadata": {},
   "outputs": [
    {
     "name": "stdout",
     "output_type": "stream",
     "text": [
      "dict_items([('a', ['apple', 'ant']), ('b', ['ball'])])\n"
     ]
    }
   ],
   "source": [
    "##### IMP ##### default dict usage (IMP) -- defaultdict(list)\n",
    "from collections import defaultdict\n",
    "\n",
    "d1 = defaultdict(list)   # key, value pairs\n",
    "\n",
    "key = 'a'\n",
    "val = 'apple'\n",
    "d1[key].append(val)    # append is supported by defaultdict(-->list) only\n",
    "\n",
    "key = 'a'\n",
    "val = 'ant'\n",
    "d1[key].append(val)\n",
    "\n",
    "key = 'b'\n",
    "val = 'ball'\n",
    "d1[key].append(val)\n",
    "\n",
    "print(d1.items())\n"
   ]
  },
  {
   "cell_type": "code",
   "execution_count": 9,
   "id": "473b76f4-651d-4791-9afa-469b32085916",
   "metadata": {},
   "outputs": [
    {
     "name": "stdout",
     "output_type": "stream",
     "text": [
      "dict_items([('a', {'aa': 'aapl', 'ac': 'acer'}), ('b', {'ba': 'ball'})])\n"
     ]
    }
   ],
   "source": [
    "##### IMP ##### default dict usage (IMP) -- defaultdict(dict)\n",
    "from collections import defaultdict\n",
    "\n",
    "d2 = defaultdict(dict)   # key, (key, value) pairs == dict of dict\n",
    "\n",
    "key = 'a'\n",
    "key1 = 'aa'\n",
    "val = 'aapl'\n",
    "d2[key][key1]=val\n",
    "\n",
    "key1 = 'ac'\n",
    "val = 'acer'\n",
    "d2[key][key1]=val\n",
    "\n",
    "key = 'b'\n",
    "key1 = 'ba'\n",
    "val = 'ball'\n",
    "d2[key][key1]=val\n",
    "\n",
    "print(d2.items())\n"
   ]
  },
  {
   "cell_type": "code",
   "execution_count": null,
   "id": "8f54bc5f-72ba-4158-b5a7-7d691167dafe",
   "metadata": {},
   "outputs": [],
   "source": []
  },
  {
   "cell_type": "code",
   "execution_count": null,
   "id": "355d6221-1edb-4914-b7fe-ae4cac2447d7",
   "metadata": {},
   "outputs": [],
   "source": []
  }
 ],
 "metadata": {
  "kernelspec": {
   "display_name": "Python 3 (ipykernel)",
   "language": "python",
   "name": "python3"
  },
  "language_info": {
   "codemirror_mode": {
    "name": "ipython",
    "version": 3
   },
   "file_extension": ".py",
   "mimetype": "text/x-python",
   "name": "python",
   "nbconvert_exporter": "python",
   "pygments_lexer": "ipython3",
   "version": "3.13.5"
  }
 },
 "nbformat": 4,
 "nbformat_minor": 5
}
