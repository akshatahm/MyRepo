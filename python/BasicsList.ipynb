{
 "cells": [
  {
   "cell_type": "code",
   "execution_count": 4,
   "id": "e4ab8808-517a-4ad0-9c83-00dc092243ff",
   "metadata": {},
   "outputs": [
    {
     "name": "stdout",
     "output_type": "stream",
     "text": [
      "[3, 5, 1, 6, 4, 2]\n",
      "[3, 1, 6, 4, 2]\n",
      "[3, 1, 6, 4, 2]\n",
      "[2, 4, 6, 1, 3]\n",
      "[]\n"
     ]
    }
   ],
   "source": [
    "# list\n",
    "ls = [3, 5, 1, 6, 4, 2]\n",
    "\n",
    "ls.append(7) # add\n",
    "ls.pop()     # remove last\n",
    "len(ls)      # len\n",
    "print(ls)\n",
    "ls.remove(ls[1])  # remove element at index 1\n",
    "print(ls)\n",
    "\n",
    "ls1 = ls[:]  # copy\n",
    "print(ls1)\n",
    "\n",
    "ls2 = ls[::-1]   # reverse\n",
    "print(ls2)\n",
    "\n",
    "ls3 = []  # empty list\n",
    "print(ls3)\n"
   ]
  },
  {
   "cell_type": "code",
   "execution_count": 73,
   "id": "2189368f-8204-4860-8313-6e6d7517d898",
   "metadata": {},
   "outputs": [
    {
     "name": "stdout",
     "output_type": "stream",
     "text": [
      "sorted: [1, 2, 3, 4, 6]\n",
      "reversed: [6, 4, 3, 2, 1]\n"
     ]
    }
   ],
   "source": [
    "ls.sort()                    # sort\n",
    "print('sorted:',ls)\n",
    "ls.reverse()                 # reverse\n",
    "print('reversed:',ls)\n"
   ]
  },
  {
   "cell_type": "code",
   "execution_count": 74,
   "id": "71991389-e201-4562-8d5d-e05a8926fdeb",
   "metadata": {},
   "outputs": [
    {
     "name": "stdout",
     "output_type": "stream",
     "text": [
      "looping #1\n",
      "6\t4\t3\t2\t1\t\n",
      "looping #2\n",
      "6\t4\t3\t2\t1\t"
     ]
    }
   ],
   "source": [
    "print('looping #1')\n",
    "for i in range(0,len(ls)):\n",
    "    print(ls[i], end='\\t')   # print ending with tab\n",
    "\n",
    "print('\\nlooping #2')\n",
    "for i in ls:\n",
    "    print(i, end='\\t')"
   ]
  },
  {
   "cell_type": "code",
   "execution_count": 76,
   "id": "b6a693fb-c7a8-4eb5-b02a-ce5679d63008",
   "metadata": {},
   "outputs": [
    {
     "name": "stdout",
     "output_type": "stream",
     "text": [
      "list of ints to str:  6,4,3,2,1\n"
     ]
    }
   ],
   "source": [
    "##### IMP ##### convert list of int to string:\n",
    "res = ','.join(str(l) for l in ls)\n",
    "print('list of ints to str: ',res, end='\\n')\n"
   ]
  },
  {
   "cell_type": "code",
   "execution_count": 77,
   "id": "325bdf76-d23e-483e-a0f5-267b28d57145",
   "metadata": {},
   "outputs": [
    {
     "name": "stdout",
     "output_type": "stream",
     "text": [
      "increment by 2 (MAP fn): [8, 6, 5, 4, 3]\n"
     ]
    }
   ],
   "source": [
    "##### IMP ##### alternative to 'for' loop for lists: MAP function\n",
    "def incrementBy2(i):\n",
    "    return i+2\n",
    "\n",
    "lsRes = map(incrementBy2, ls)                 # MAP function\n",
    "print('increment by 2 (MAP fn):', list(lsRes))\n"
   ]
  },
  {
   "cell_type": "code",
   "execution_count": 78,
   "id": "41ca9194-6686-43c1-8544-012a6c324c03",
   "metadata": {},
   "outputs": [
    {
     "name": "stdout",
     "output_type": "stream",
     "text": [
      "numbers greater than 2 (FILTER fn): [6, 4, 3]\n"
     ]
    }
   ],
   "source": [
    "##### IMP ##### alternative to 'for' loop for lists: FILTER function\n",
    "def greaterThan2(i):\n",
    "    return i>2\n",
    "lsRes1 = filter(greaterThan2, ls)             # FILTER function\n",
    "print('numbers greater than 2 (FILTER fn):', list(lsRes1))\n"
   ]
  },
  {
   "cell_type": "code",
   "execution_count": null,
   "id": "4573232e-2079-436a-a86f-6169c3bdafbb",
   "metadata": {},
   "outputs": [],
   "source": []
  }
 ],
 "metadata": {
  "kernelspec": {
   "display_name": "Python 3 (ipykernel)",
   "language": "python",
   "name": "python3"
  },
  "language_info": {
   "codemirror_mode": {
    "name": "ipython",
    "version": 3
   },
   "file_extension": ".py",
   "mimetype": "text/x-python",
   "name": "python",
   "nbconvert_exporter": "python",
   "pygments_lexer": "ipython3",
   "version": "3.13.5"
  }
 },
 "nbformat": 4,
 "nbformat_minor": 5
}
