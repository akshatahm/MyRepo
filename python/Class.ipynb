{
 "cells": [
  {
   "cell_type": "code",
   "execution_count": 4,
   "id": "46642095-5d7a-470b-8b78-67f02c118d1a",
   "metadata": {},
   "outputs": [
    {
     "name": "stdout",
     "output_type": "stream",
     "text": [
      "AAA,76\n"
     ]
    }
   ],
   "source": [
    "### simple class\n",
    "class Person:\n",
    "    def __init__(self, name, age):\n",
    "        self.name = name\n",
    "        self.age = age\n",
    "\n",
    "    def __str__(self):\n",
    "        return f'{self.name},{self.age}'\n",
    "\n",
    "p1 = Person('AAA', 76)\n",
    "\n",
    "print(p1)\n"
   ]
  },
  {
   "cell_type": "code",
   "execution_count": 9,
   "id": "6a1db75e-454e-4015-810b-d076ea730f3e",
   "metadata": {},
   "outputs": [
    {
     "name": "stdout",
     "output_type": "stream",
     "text": [
      "DDD,23,5A\n"
     ]
    }
   ],
   "source": [
    "### inherited class\n",
    "class Student(Person):\n",
    "    def __init__(self, name, age, div):\n",
    "        super().__init__(name, age)\n",
    "        self.div = div\n",
    "\n",
    "    def __str__(self):\n",
    "        return f'{super().__str__()},{self.div}'\n",
    "\n",
    "s1 = Student('DDD', 23, '5A')\n",
    "\n",
    "print(s1)"
   ]
  },
  {
   "cell_type": "code",
   "execution_count": null,
   "id": "9bdb926a-28d4-471d-a5f7-1240e022c5f4",
   "metadata": {},
   "outputs": [],
   "source": []
  }
 ],
 "metadata": {
  "kernelspec": {
   "display_name": "Python 3 (ipykernel)",
   "language": "python",
   "name": "python3"
  },
  "language_info": {
   "codemirror_mode": {
    "name": "ipython",
    "version": 3
   },
   "file_extension": ".py",
   "mimetype": "text/x-python",
   "name": "python",
   "nbconvert_exporter": "python",
   "pygments_lexer": "ipython3",
   "version": "3.13.5"
  }
 },
 "nbformat": 4,
 "nbformat_minor": 5
}
