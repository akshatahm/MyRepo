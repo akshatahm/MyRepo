{
 "cells": [
  {
   "cell_type": "code",
   "execution_count": 4,
   "id": "9dc5825e-906f-481e-a77a-963e555151b3",
   "metadata": {},
   "outputs": [
    {
     "data": {
      "text/plain": [
       "{'Pinky': 98, 'Chinky': 70, 'Minky': 85, 'Linky': 60}"
      ]
     },
     "execution_count": 4,
     "metadata": {},
     "output_type": "execute_result"
    }
   ],
   "source": [
    "# Create a dictionary of student names and scores. Print names of students with scores above 75.\n",
    "student_scores ={\n",
    "    'Pinky': 98,\n",
    "    'Chinky': 70,\n",
    "    'Minky': 85,\n",
    "    'Linky': 60\n",
    "}\n",
    "student_scores"
   ]
  },
  {
   "cell_type": "code",
   "execution_count": 6,
   "id": "410c4fd8-21a1-4c07-b78e-e28d9cd34b40",
   "metadata": {},
   "outputs": [
    {
     "data": {
      "text/plain": [
       "{'Pinky': 98, 'Minky': 85}"
      ]
     },
     "execution_count": 6,
     "metadata": {},
     "output_type": "execute_result"
    }
   ],
   "source": [
    "student_scores_75 = { k:v for k,v in student_scores.items() if v>75}\n",
    "student_scores_75"
   ]
  },
  {
   "cell_type": "code",
   "execution_count": null,
   "id": "9295d3c7-f506-4f6e-9ad1-46f62fbc403a",
   "metadata": {},
   "outputs": [],
   "source": []
  }
 ],
 "metadata": {
  "kernelspec": {
   "display_name": "Python 3 (ipykernel)",
   "language": "python",
   "name": "python3"
  },
  "language_info": {
   "codemirror_mode": {
    "name": "ipython",
    "version": 3
   },
   "file_extension": ".py",
   "mimetype": "text/x-python",
   "name": "python",
   "nbconvert_exporter": "python",
   "pygments_lexer": "ipython3",
   "version": "3.13.5"
  }
 },
 "nbformat": 4,
 "nbformat_minor": 5
}
