{
 "cells": [
  {
   "cell_type": "code",
   "execution_count": 1,
   "id": "ca36a37e-d0e8-4cfc-89c2-634642592357",
   "metadata": {},
   "outputs": [
    {
     "data": {
      "text/plain": [
       "[12, 22, 32]"
      ]
     },
     "execution_count": 1,
     "metadata": {},
     "output_type": "execute_result"
    }
   ],
   "source": [
    "# list comprehension in python\n",
    "ls1 = [10,20,30]\n",
    "ls2 = [i+2  for i in ls1]\n",
    "ls2"
   ]
  },
  {
   "cell_type": "code",
   "execution_count": 8,
   "id": "4397c753-e586-42ad-86d2-bde3c9d7c402",
   "metadata": {},
   "outputs": [
    {
     "data": {
      "text/plain": [
       "['apple', 'banana', 'kiwi', 'mango']"
      ]
     },
     "execution_count": 8,
     "metadata": {},
     "output_type": "execute_result"
    }
   ],
   "source": [
    "fruits = [\"apple\", \"banana\", \"cherry\", \"kiwi\", \"mango\"]\n",
    "fruitsA = [e  for e in fruits if ('a' in e or 'k' in e)]\n",
    "\n",
    "fruitsA"
   ]
  },
  {
   "cell_type": "code",
   "execution_count": 3,
   "id": "3bfdff61-bc00-4bfe-913c-015da313203f",
   "metadata": {},
   "outputs": [
    {
     "data": {
      "text/plain": [
       "[15, 9, 1, 1, 18]"
      ]
     },
     "execution_count": 3,
     "metadata": {},
     "output_type": "execute_result"
    }
   ],
   "source": [
    "import random\n",
    "\n",
    "data = [random.randint(1,20)  for i in range(0,5)]\n",
    "data"
   ]
  },
  {
   "cell_type": "code",
   "execution_count": null,
   "id": "76b8dab0-c8a1-43d5-88e3-d995550823de",
   "metadata": {},
   "outputs": [],
   "source": []
  },
  {
   "cell_type": "code",
   "execution_count": null,
   "id": "60c94f40-5a3a-44ae-b583-52c339b9795c",
   "metadata": {},
   "outputs": [],
   "source": []
  }
 ],
 "metadata": {
  "kernelspec": {
   "display_name": "Python 3 (ipykernel)",
   "language": "python",
   "name": "python3"
  },
  "language_info": {
   "codemirror_mode": {
    "name": "ipython",
    "version": 3
   },
   "file_extension": ".py",
   "mimetype": "text/x-python",
   "name": "python",
   "nbconvert_exporter": "python",
   "pygments_lexer": "ipython3",
   "version": "3.13.5"
  }
 },
 "nbformat": 4,
 "nbformat_minor": 5
}
