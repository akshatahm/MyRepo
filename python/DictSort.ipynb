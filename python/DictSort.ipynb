{
 "cells": [
  {
   "cell_type": "code",
   "execution_count": 2,
   "id": "89890eaf-6a23-4675-842a-4ff0a676fc98",
   "metadata": {},
   "outputs": [
    {
     "data": {
      "text/plain": [
       "{'ACME': (45.23, 'AC', 50),\n",
       " 'AAPL': (612.78, 'AA', 60),\n",
       " 'IBM': (205.55, 'IB', 40),\n",
       " 'HPQ': (37.2, 'HP', 300),\n",
       " 'FB': (10.75, 'FB', 200)}"
      ]
     },
     "execution_count": 2,
     "metadata": {},
     "output_type": "execute_result"
    }
   ],
   "source": [
    "d1 = {\n",
    "    'ACME' : (45.23, 'AC', 50),\n",
    "    'AAPL' : (612.78, 'AA', 60),\n",
    "    'IBM' : (205.55,'IB', 40),\n",
    "    'HPQ' : (37.20,'HP',300),\n",
    "    'FB' : (10.75, 'FB', 200)\n",
    "}\n",
    "\n",
    "d1"
   ]
  },
  {
   "cell_type": "code",
   "execution_count": 76,
   "id": "0836d57b-7645-4be8-9362-237934ed7081",
   "metadata": {},
   "outputs": [
    {
     "data": {
      "text/plain": [
       "[('AAPL', (612.78, 'AA', 60)),\n",
       " ('ACME', (45.23, 'AC', 50)),\n",
       " ('FB', (10.75, 'FB', 200)),\n",
       " ('HPQ', (37.2, 'HP', 300)),\n",
       " ('IBM', (205.55, 'IB', 40))]"
      ]
     },
     "execution_count": 76,
     "metadata": {},
     "output_type": "execute_result"
    }
   ],
   "source": [
    "# default sort\n",
    "d2 = sorted(d1.items())\n",
    "\n",
    "d2"
   ]
  },
  {
   "cell_type": "code",
   "execution_count": 79,
   "id": "ec986130-1baa-4a29-8c7f-c98a5d468344",
   "metadata": {},
   "outputs": [
    {
     "data": {
      "text/plain": [
       "[('FB', (10.75, 'FB', 200)),\n",
       " ('HPQ', (37.2, 'HP', 300)),\n",
       " ('ACME', (45.23, 'AC', 50)),\n",
       " ('IBM', (205.55, 'IB', 40)),\n",
       " ('AAPL', (612.78, 'AA', 60))]"
      ]
     },
     "execution_count": 79,
     "metadata": {},
     "output_type": "execute_result"
    }
   ],
   "source": [
    "# sort by price \n",
    "d3 = sorted(d1.items(), key = lambda i: i[1][0], reverse=False)\n",
    "\n",
    "d3"
   ]
  },
  {
   "cell_type": "code",
   "execution_count": 10,
   "id": "b5a0115e-0a4a-4724-bed8-5ee9ec06948c",
   "metadata": {},
   "outputs": [
    {
     "name": "stdout",
     "output_type": "stream",
     "text": [
      "[('IBM', (205.55, 'IB', 40)), ('ACME', (45.23, 'AC', 50)), ('AAPL', (612.78, 'AA', 60)), ('FB', (10.75, 'FB', 200)), ('HPQ', (37.2, 'HP', 300))]\n",
      "('IBM', (205.55, 'IB', 40))\n",
      "('HPQ', (37.2, 'HP', 300))\n"
     ]
    }
   ],
   "source": [
    "# sort by count \n",
    "d4 = sorted(d1.items(), key = lambda i: i[1][2], reverse=False)\n",
    "print(d4)\n",
    "min_share_count= d4[0]\n",
    "max_share_count= d4[-1]\n",
    "\n",
    "print(min_share_count)\n",
    "print(max_share_count)"
   ]
  },
  {
   "cell_type": "code",
   "execution_count": null,
   "id": "38266389-f2d1-4344-a48b-876cb02cc525",
   "metadata": {},
   "outputs": [],
   "source": []
  }
 ],
 "metadata": {
  "kernelspec": {
   "display_name": "Python 3 (ipykernel)",
   "language": "python",
   "name": "python3"
  },
  "language_info": {
   "codemirror_mode": {
    "name": "ipython",
    "version": 3
   },
   "file_extension": ".py",
   "mimetype": "text/x-python",
   "name": "python",
   "nbconvert_exporter": "python",
   "pygments_lexer": "ipython3",
   "version": "3.13.5"
  }
 },
 "nbformat": 4,
 "nbformat_minor": 5
}
