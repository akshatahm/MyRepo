{
 "cells": [
  {
   "cell_type": "code",
   "execution_count": 1,
   "id": "2658bc7c-e4c1-4fa6-93ee-c4924f3a97a1",
   "metadata": {},
   "outputs": [
    {
     "data": {
      "text/plain": [
       "12"
      ]
     },
     "execution_count": 1,
     "metadata": {},
     "output_type": "execute_result"
    }
   ],
   "source": [
    "x = lambda a : a+2\n",
    "\n",
    "x(10)"
   ]
  },
  {
   "cell_type": "code",
   "execution_count": 3,
   "id": "a8c7db70-43f9-4df5-af56-02a62c49b5b9",
   "metadata": {},
   "outputs": [
    {
     "data": {
      "text/plain": [
       "15"
      ]
     },
     "execution_count": 3,
     "metadata": {},
     "output_type": "execute_result"
    }
   ],
   "source": [
    "add = lambda x, y : x+y   # with 2 variables\n",
    "\n",
    "add(5,10)"
   ]
  },
  {
   "cell_type": "code",
   "execution_count": 9,
   "id": "cf1bb9e4-d290-4976-b408-499ee6d7488e",
   "metadata": {},
   "outputs": [],
   "source": [
    "ls = [ 4, 6, 1, 3, 5, 9]\n",
    "\n",
    "evenlam = lambda e : e%2==0\n"
   ]
  },
  {
   "cell_type": "code",
   "execution_count": 10,
   "id": "03720c38-8d07-439b-b2cc-26191fae259f",
   "metadata": {},
   "outputs": [
    {
     "name": "stdout",
     "output_type": "stream",
     "text": [
      "[True, True, False, False, False, False]\n"
     ]
    }
   ],
   "source": [
    "# with MAP function\n",
    "\n",
    "evens = list(map(evenlam, ls))\n",
    "\n",
    "print(evens)"
   ]
  },
  {
   "cell_type": "code",
   "execution_count": 11,
   "id": "86c759a8-a9ef-4ec4-909a-92440aa569dd",
   "metadata": {},
   "outputs": [
    {
     "name": "stdout",
     "output_type": "stream",
     "text": [
      "[4, 6]\n"
     ]
    }
   ],
   "source": [
    "# with FILTER function\n",
    "\n",
    "evens = list(filter(evenlam, ls))\n",
    "\n",
    "print(evens)\n"
   ]
  },
  {
   "cell_type": "code",
   "execution_count": null,
   "id": "9e5d478f-726b-4922-bd76-8ee957006544",
   "metadata": {},
   "outputs": [],
   "source": []
  },
  {
   "cell_type": "code",
   "execution_count": null,
   "id": "057e1277-7561-4fb9-ae34-cde9da26c481",
   "metadata": {},
   "outputs": [],
   "source": []
  }
 ],
 "metadata": {
  "kernelspec": {
   "display_name": "Python 3 (ipykernel)",
   "language": "python",
   "name": "python3"
  },
  "language_info": {
   "codemirror_mode": {
    "name": "ipython",
    "version": 3
   },
   "file_extension": ".py",
   "mimetype": "text/x-python",
   "name": "python",
   "nbconvert_exporter": "python",
   "pygments_lexer": "ipython3",
   "version": "3.13.5"
  }
 },
 "nbformat": 4,
 "nbformat_minor": 5
}
