{
 "cells": [
  {
   "cell_type": "code",
   "execution_count": 1,
   "id": "ca36a37e-d0e8-4cfc-89c2-634642592357",
   "metadata": {},
   "outputs": [
    {
     "data": {
      "text/plain": [
       "[12, 22, 32]"
      ]
     },
     "execution_count": 1,
     "metadata": {},
     "output_type": "execute_result"
    }
   ],
   "source": [
    "# list comprehension in python\n",
    "ls1 = [10,20,30]\n",
    "ls2 = [i+2  for i in ls1]\n",
    "ls2"
   ]
  },
  {
   "cell_type": "code",
   "execution_count": 8,
   "id": "4397c753-e586-42ad-86d2-bde3c9d7c402",
   "metadata": {},
   "outputs": [
    {
     "data": {
      "text/plain": [
       "['apple', 'banana', 'kiwi', 'mango']"
      ]
     },
     "execution_count": 8,
     "metadata": {},
     "output_type": "execute_result"
    }
   ],
   "source": [
    "fruits = [\"apple\", \"banana\", \"cherry\", \"kiwi\", \"mango\"]\n",
    "fruitsA = [e  for e in fruits if ('a' in e or 'k' in e)]\n",
    "\n",
    "fruitsA"
   ]
  },
  {
   "cell_type": "code",
   "execution_count": null,
   "id": "3bfdff61-bc00-4bfe-913c-015da313203f",
   "metadata": {},
   "outputs": [],
   "source": []
  }
 ],
 "metadata": {
  "kernelspec": {
   "display_name": "Python 3 (ipykernel)",
   "language": "python",
   "name": "python3"
  },
  "language_info": {
   "codemirror_mode": {
    "name": "ipython",
    "version": 3
   },
   "file_extension": ".py",
   "mimetype": "text/x-python",
   "name": "python",
   "nbconvert_exporter": "python",
   "pygments_lexer": "ipython3",
   "version": "3.13.5"
  }
 },
 "nbformat": 4,
 "nbformat_minor": 5
}
