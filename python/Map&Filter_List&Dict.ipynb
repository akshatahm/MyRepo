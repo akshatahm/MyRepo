{
 "cells": [
  {
   "cell_type": "code",
   "execution_count": 12,
   "id": "d5f75a00-a62f-4045-ab79-68d78a2042b8",
   "metadata": {},
   "outputs": [
    {
     "data": {
      "text/plain": [
       "{'Pinky': 102, 'Chinky': 52, 'Minky': 72, 'Manki': 82}"
      ]
     },
     "execution_count": 12,
     "metadata": {},
     "output_type": "execute_result"
    }
   ],
   "source": [
    "####### DICTIONARY map & filter #######\n",
    "d1 = {'Pinky':100, 'Chinky':50, 'Minky':70,'Manki':80}\n",
    "\n",
    "# map\n",
    "d1 = {k:v+2 for k,v in d1.items()}\n",
    "d1"
   ]
  },
  {
   "cell_type": "code",
   "execution_count": 13,
   "id": "3d8aa58b-7aaa-4a9a-b63e-7592207438b1",
   "metadata": {},
   "outputs": [
    {
     "data": {
      "text/plain": [
       "{'Pinky': 102, 'Manki': 82}"
      ]
     },
     "execution_count": 13,
     "metadata": {},
     "output_type": "execute_result"
    }
   ],
   "source": [
    "# filter\n",
    "d1 = {k:v for k,v in d1.items() if v>75}\n",
    "d1"
   ]
  },
  {
   "cell_type": "code",
   "execution_count": null,
   "id": "b160d9bf-844e-44e0-8db3-e94473937372",
   "metadata": {},
   "outputs": [],
   "source": []
  },
  {
   "cell_type": "code",
   "execution_count": 15,
   "id": "9417a2db-c8d9-466f-9841-9e42eb678edb",
   "metadata": {},
   "outputs": [
    {
     "data": {
      "text/plain": [
       "[2, 4, 6, 8, 10, 12]"
      ]
     },
     "execution_count": 15,
     "metadata": {},
     "output_type": "execute_result"
    }
   ],
   "source": [
    "####### LIST map & filter #######\n",
    "lst = [1,2,3,4,5,6]\n",
    "#map\n",
    "lst2 = list(map(lambda x:x*2, lst))\n",
    "lst2"
   ]
  },
  {
   "cell_type": "code",
   "execution_count": 16,
   "id": "cf835adf-0bc3-4c8b-9965-0eb7069433fe",
   "metadata": {},
   "outputs": [
    {
     "data": {
      "text/plain": [
       "[2, 4, 6]"
      ]
     },
     "execution_count": 16,
     "metadata": {},
     "output_type": "execute_result"
    }
   ],
   "source": [
    "#filter\n",
    "lst3 = list(filter(lambda x:x%2==0, lst))\n",
    "lst3"
   ]
  },
  {
   "cell_type": "code",
   "execution_count": null,
   "id": "61424e23-5ded-48e6-b889-0c5666a696ad",
   "metadata": {},
   "outputs": [],
   "source": []
  }
 ],
 "metadata": {
  "kernelspec": {
   "display_name": "Python 3 (ipykernel)",
   "language": "python",
   "name": "python3"
  },
  "language_info": {
   "codemirror_mode": {
    "name": "ipython",
    "version": 3
   },
   "file_extension": ".py",
   "mimetype": "text/x-python",
   "name": "python",
   "nbconvert_exporter": "python",
   "pygments_lexer": "ipython3",
   "version": "3.13.5"
  }
 },
 "nbformat": 4,
 "nbformat_minor": 5
}
