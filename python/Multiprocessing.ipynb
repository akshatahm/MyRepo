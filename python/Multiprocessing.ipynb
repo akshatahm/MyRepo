{
 "cells": [
  {
   "cell_type": "code",
   "execution_count": 1,
   "id": "81c4ac2a-98f9-4127-8a5a-2b2b460721dc",
   "metadata": {},
   "outputs": [
    {
     "name": "stdout",
     "output_type": "stream",
     "text": [
      "[5, 26, 65, 122]\n"
     ]
    }
   ],
   "source": [
    "from pathos.multiprocessing import Pool\n",
    "\n",
    "def process_data(args):\n",
    "    number, multiplier, offset = args\n",
    "    return number * multiplier + offset\n",
    "\n",
    "if __name__ == \"__main__\":\n",
    "    # Create a list of tuples with arguments\n",
    "    data = [(1, 2, 3), (4, 5, 6), (7, 8, 9), (10, 11, 12)]\n",
    "\n",
    "    with Pool(processes=4) as pool:\n",
    "        results = pool.map(process_data, data)\n",
    "\n",
    "    print(results)"
   ]
  },
  {
   "cell_type": "code",
   "execution_count": 9,
   "id": "348fcd0c-eec9-4f3f-92ef-34868defaf18",
   "metadata": {},
   "outputs": [
    {
     "name": "stdout",
     "output_type": "stream",
     "text": [
      "[5, 26, 65]\n"
     ]
    }
   ],
   "source": [
    "import pathos.multiprocessing as pmp\n",
    "\n",
    "def process_data(data):\n",
    "    n,m,o = data\n",
    "    return n*m+o\n",
    "\n",
    "\n",
    "data = [(1,2,3),(4,5,6),(7,8,9)]\n",
    "\n",
    "with pmp.Pool() as pool:\n",
    "    results = pool.map(process_data, data)\n",
    "\n",
    "print(results)"
   ]
  },
  {
   "cell_type": "code",
   "execution_count": null,
   "id": "25128862-7c58-4859-8596-31bb3a551516",
   "metadata": {},
   "outputs": [],
   "source": []
  }
 ],
 "metadata": {
  "kernelspec": {
   "display_name": "Python 3 (ipykernel)",
   "language": "python",
   "name": "python3"
  },
  "language_info": {
   "codemirror_mode": {
    "name": "ipython",
    "version": 3
   },
   "file_extension": ".py",
   "mimetype": "text/x-python",
   "name": "python",
   "nbconvert_exporter": "python",
   "pygments_lexer": "ipython3",
   "version": "3.13.5"
  }
 },
 "nbformat": 4,
 "nbformat_minor": 5
}
