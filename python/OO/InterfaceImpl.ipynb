{
 "cells": [
  {
   "cell_type": "code",
   "execution_count": 1,
   "id": "744792d6-b453-4bec-aaa4-d24e4d8d059d",
   "metadata": {},
   "outputs": [],
   "source": [
    "from abc import ABC, abstractmethod"
   ]
  },
  {
   "cell_type": "code",
   "execution_count": 2,
   "id": "015976b6-6e2a-48fa-9450-b0aa21b545ee",
   "metadata": {},
   "outputs": [],
   "source": [
    "# Interface and abstract methods\n",
    "class Animal(ABC):\n",
    "    def move(self):\n",
    "        pass\n",
    "\n",
    "    def sound(self):\n",
    "        pass"
   ]
  },
  {
   "cell_type": "code",
   "execution_count": 4,
   "id": "c0dacbba-b17c-42dc-853b-1e264de6f906",
   "metadata": {},
   "outputs": [],
   "source": [
    "class Bird(Animal):\n",
    "    def __init__(self, name):\n",
    "        self.name = name\n",
    "    \n",
    "    def move(self):\n",
    "        print(f'Bird : {self.name} flies')\n",
    "\n",
    "    def sound(self):\n",
    "        print(f'Bird : {self.name} chirps')\n",
    "\n",
    "class Domestic(Animal):\n",
    "    def __init__(self, name):\n",
    "        self.name = name\n",
    "    \n",
    "    def move(self):\n",
    "        print(f'Domestic : {self.name} walks')\n",
    "\n",
    "    def sound(self):\n",
    "        print(f'Domestic : {self.name} barks/mews')\n",
    "\n",
    "class Fish(Animal):\n",
    "    def __init__(self, name):\n",
    "        self.name = name\n",
    "    \n",
    "    def move(self):\n",
    "        print(f'Fish : {self.name} swims')\n",
    "    "
   ]
  },
  {
   "cell_type": "code",
   "execution_count": 5,
   "id": "cd5bfa2e-4cd9-4853-ba79-c28e7c6208d1",
   "metadata": {},
   "outputs": [
    {
     "name": "stdout",
     "output_type": "stream",
     "text": [
      "Bird : parrot flies\n",
      "Bird : parrot chirps\n",
      "--------------------\n",
      "Domestic : dog walks\n",
      "Domestic : dog barks/mews\n",
      "--------------------\n",
      "Fish : salmon swims\n",
      "--------------------\n"
     ]
    }
   ],
   "source": [
    "animals = [ Bird('parrot'), Domestic('dog'), Fish('salmon')]\n",
    "\n",
    "for animal in animals:\n",
    "    animal.move()\n",
    "    animal.sound()\n",
    "    print('-'*20)\n",
    "\n"
   ]
  },
  {
   "cell_type": "code",
   "execution_count": null,
   "id": "05071f98-7801-41ce-b207-1452f0eff5de",
   "metadata": {},
   "outputs": [],
   "source": []
  }
 ],
 "metadata": {
  "kernelspec": {
   "display_name": "Python 3 (ipykernel)",
   "language": "python",
   "name": "python3"
  },
  "language_info": {
   "codemirror_mode": {
    "name": "ipython",
    "version": 3
   },
   "file_extension": ".py",
   "mimetype": "text/x-python",
   "name": "python",
   "nbconvert_exporter": "python",
   "pygments_lexer": "ipython3",
   "version": "3.13.5"
  }
 },
 "nbformat": 4,
 "nbformat_minor": 5
}
