{
 "cells": [
  {
   "cell_type": "code",
   "execution_count": 2,
   "id": "7cd4dd80-1e6d-430f-a118-62418bfa1dd2",
   "metadata": {},
   "outputs": [
    {
     "name": "stdout",
     "output_type": "stream",
     "text": [
      "MADAM is a palindrome\n",
      "GOOD is not a palindrome\n"
     ]
    }
   ],
   "source": [
    "# Beginner: 1. Check if a string is a palindrome\n",
    "\n",
    "inp_list = ['MADAM', 'GOOD']\n",
    "\n",
    "for l in inp_list:\n",
    "    if l == l[::-1] :\n",
    "        print(f'{l} is a palindrome')\n",
    "    else:\n",
    "        print(f'{l} is not a palindrome')\n"
   ]
  },
  {
   "cell_type": "code",
   "execution_count": 6,
   "id": "6d312655-52ff-4bcc-a68f-e9c52ffe311c",
   "metadata": {},
   "outputs": [
    {
     "name": "stdout",
     "output_type": "stream",
     "text": [
      "H is not a vowel\n",
      "e is a vowel\n",
      "l is not a vowel\n",
      "l is not a vowel\n",
      "o is a vowel\n",
      "  is not a vowel\n",
      "G is not a vowel\n",
      "o is a vowel\n",
      "o is a vowel\n",
      "d is not a vowel\n"
     ]
    }
   ],
   "source": [
    "# Beginner: 2. Count vowels in a string\n",
    "inp = 'Hello Good'\n",
    "vowel_list = 'aeiou'\n",
    "\n",
    "for c in inp:\n",
    "    if c in vowel_list:\n",
    "        print(f'{c} is a vowel')\n",
    "    else:\n",
    "        print(f'{c} is not a vowel')\n"
   ]
  },
  {
   "cell_type": "code",
   "execution_count": 19,
   "id": "a8c0a242-30f5-4167-9192-c49d6f744a8d",
   "metadata": {},
   "outputs": [
    {
     "data": {
      "text/plain": [
       "defaultdict(int, {'e': 1, 'o': 4, 'i': 1, 'u': 1, 'a': 1})"
      ]
     },
     "execution_count": 19,
     "metadata": {},
     "output_type": "execute_result"
    }
   ],
   "source": [
    "# Beginner: 3. Count vowels in a string with frequency\n",
    "from collections import defaultdict  \n",
    "\n",
    "inp = 'Hello Good mrning you all!'\n",
    "vowel_list = 'aeiou'\n",
    "word_map = defaultdict(int)\n",
    "\n",
    "for c in inp:\n",
    "    if c in vowel_list:\n",
    "        word_map[c]=word_map[c]+1\n",
    "\n",
    "word_map"
   ]
  },
  {
   "cell_type": "code",
   "execution_count": null,
   "id": "c753e0f9-f204-4413-a5b9-c9c4fe4884c8",
   "metadata": {},
   "outputs": [],
   "source": []
  },
  {
   "cell_type": "code",
   "execution_count": 32,
   "id": "3e8340b7-08fd-48e6-b99e-6c249b136ccf",
   "metadata": {},
   "outputs": [],
   "source": [
    "# Intermediate: 1.Read a file and count word frequency\n",
    "from collections import defaultdict  \n",
    "\n",
    "word_map = defaultdict(int)\n",
    "\n",
    "with open('C:\\\\Users\\\\a655544\\\\OneDrive - Fidelity Technology Group, LLC\\\\Desktop\\\\Exercise\\\\TestingSample.txt','r') as file:\n",
    "    text = file.read()\n",
    "\n",
    "for t in text.split():\n",
    "    word_map[t]=word_map[t]+1\n"
   ]
  },
  {
   "cell_type": "code",
   "execution_count": null,
   "id": "35498c97-b28f-4e7e-b6ca-ba58e836334d",
   "metadata": {},
   "outputs": [],
   "source": [
    "sorted(word_map.items(), key=lambda element : element[1], reverse=True)"
   ]
  },
  {
   "cell_type": "code",
   "execution_count": null,
   "id": "eb16ce53-be7d-4b70-976e-b76a8dff947b",
   "metadata": {},
   "outputs": [],
   "source": []
  },
  {
   "cell_type": "code",
   "execution_count": 30,
   "id": "b88ce347-2350-4e85-a270-66ce6e92b7db",
   "metadata": {},
   "outputs": [],
   "source": [
    "\n",
    "sorted_word_map = dict(sorted(word_map.items(), key=lambda element : element[1], reverse=True))"
   ]
  },
  {
   "cell_type": "code",
   "execution_count": 31,
   "id": "472c9120-5112-4d55-a3e0-3e50f1d22c01",
   "metadata": {},
   "outputs": [
    {
     "data": {
      "text/plain": [
       "{'had': 5,\n",
       " 'the': 5,\n",
       " 'It': 3,\n",
       " 'a': 3,\n",
       " 'been': 3,\n",
       " 'was': 2,\n",
       " 'to': 2,\n",
       " 'be': 2,\n",
       " 'dream': 2,\n",
       " 'it': 2,\n",
       " 'in': 2,\n",
       " 'that': 2,\n",
       " 'all': 2,\n",
       " 'supposed': 1,\n",
       " 'vacation.': 1,\n",
       " 'They': 1,\n",
       " 'planned': 1,\n",
       " 'over': 1,\n",
       " 'year': 1,\n",
       " 'advance': 1,\n",
       " 'so': 1,\n",
       " 'would': 1,\n",
       " 'perfect': 1,\n",
       " 'every': 1,\n",
       " 'way.': 1,\n",
       " 'what': 1,\n",
       " 'they': 1,\n",
       " 'looking': 1,\n",
       " 'forward': 1,\n",
       " 'through': 1,\n",
       " 'turmoil': 1,\n",
       " 'and': 1,\n",
       " 'negativity': 1,\n",
       " 'around': 1,\n",
       " 'them.': 1,\n",
       " 'light': 1,\n",
       " 'at': 1,\n",
       " 'end': 1,\n",
       " 'of': 1,\n",
       " 'both': 1,\n",
       " 'their': 1,\n",
       " 'tunnels.': 1,\n",
       " 'Now': 1,\n",
       " 'vacation': 1,\n",
       " 'only': 1,\n",
       " 'week': 1,\n",
       " 'away,': 1,\n",
       " 'virus': 1,\n",
       " 'stopped': 1,\n",
       " 'air': 1,\n",
       " 'travel.': 1}"
      ]
     },
     "execution_count": 31,
     "metadata": {},
     "output_type": "execute_result"
    }
   ],
   "source": [
    "sorted_word_map"
   ]
  },
  {
   "cell_type": "code",
   "execution_count": 34,
   "id": "8bc74005-3d88-4a01-b364-7f600c32fd64",
   "metadata": {},
   "outputs": [
    {
     "name": "stdout",
     "output_type": "stream",
     "text": [
      "key:had\n",
      "val:5\n"
     ]
    }
   ],
   "source": [
    "first_key = next(iter(sorted_word_map))\n",
    "\n",
    "print(f'key:{first_key}')\n",
    "\n",
    "print(f'val:{sorted_word_map[first_key]}')"
   ]
  },
  {
   "cell_type": "code",
   "execution_count": null,
   "id": "a02eab3c-bad1-43aa-a045-08613f52d6b2",
   "metadata": {},
   "outputs": [],
   "source": []
  },
  {
   "cell_type": "code",
   "execution_count": 35,
   "id": "0924fbc8-82f9-4f45-a019-81fff5a62b8d",
   "metadata": {},
   "outputs": [
    {
     "name": "stdout",
     "output_type": "stream",
     "text": [
      "[10, 'myname', 3]\n"
     ]
    }
   ],
   "source": [
    "my_tuple = (1, \"myname\", 3)\n",
    "my_list = list(my_tuple)\n",
    "\n",
    "# Now you can modify it\n",
    "my_list[0] = 10\n",
    "print(my_list)  # Output: [10, 2, 3]\n"
   ]
  },
  {
   "cell_type": "code",
   "execution_count": 41,
   "id": "a8292cd5-39fa-467d-9ff1-772023ef5312",
   "metadata": {},
   "outputs": [
    {
     "data": {
      "text/plain": [
       "99"
      ]
     },
     "execution_count": 41,
     "metadata": {},
     "output_type": "execute_result"
    }
   ],
   "source": [
    "# Intermediate: 2. Find the second largest number in a list\n",
    "\n",
    "lst = [4, 5, 22, 77, 33, 99, 29, 100, 3, 5, 23, 34]\n",
    "\n",
    "sorted_lst = sorted(lst, reverse=True)\n",
    "\n",
    "sorted_lst[1]\n"
   ]
  },
  {
   "cell_type": "code",
   "execution_count": 53,
   "id": "0a7c149a-0f62-4a79-b72d-101dbbddb3b3",
   "metadata": {},
   "outputs": [
    {
     "name": "stdout",
     "output_type": "stream",
     "text": [
      "[('kiwi', 1), ('cherry', 2), ('banana', 51), ('apple', 3)]\n",
      "[('banana', 51), ('apple', 3), ('cherry', 2), ('kiwi', 1)]\n"
     ]
    }
   ],
   "source": [
    "# Intermediate: 3. sort list of tuples by name\n",
    "test_tuple = [(\"apple\", 3), (\"banana\", 51), (\"cherry\", 2), (\"kiwi\", 1)]\n",
    "\n",
    "sorted_by_name_desc =sorted(test_tuple, key= lambda l:l[0], reverse=True)\n",
    "print(sorted_by_name_desc)\n",
    "\n",
    "sorted_by_age_desc =sorted(test_tuple, key= lambda l:l[1], reverse=True)\n",
    "print(sorted_by_age_desc)\n"
   ]
  },
  {
   "cell_type": "code",
   "execution_count": null,
   "id": "a84f360a-0ad1-4452-885e-2dacf8e4d9bb",
   "metadata": {},
   "outputs": [],
   "source": []
  },
  {
   "cell_type": "code",
   "execution_count": 62,
   "id": "8ba783c1-cebf-4672-86b7-6c839c9bbc2a",
   "metadata": {},
   "outputs": [
    {
     "data": {
      "text/plain": [
       "{'name': 'Charlie', 'age': 35, 'city': 'Chicago'}"
      ]
     },
     "execution_count": 62,
     "metadata": {},
     "output_type": "execute_result"
    }
   ],
   "source": [
    "# Intermediate: 4. Sort a list of dictionaries by a key\n",
    "list_map = [\n",
    "    {\"name\": \"Alice\", \"age\": 30, \"city\": \"New York\"},\n",
    "    {\"name\": \"Bob\", \"age\": 25, \"city\": \"Los Angeles\"},\n",
    "    {\"name\": \"Charlie\", \"age\": 35, \"city\": \"Chicago\"},\n",
    "    {\"name\": \"Alice\", \"age\": 30, \"city\": \"New York\"},  # Duplicate\n",
    "    {\"name\": \"Eve\", \"age\": 28, \"city\": \"Seattle\"}\n",
    "]\n",
    "\n",
    "list_map_sorted_by_age_asc = sorted(list_map, key = lambda l:l['age'])\n",
    "\n",
    "# most aged \n",
    "list_map_sorted_by_age_asc[-1]"
   ]
  },
  {
   "cell_type": "code",
   "execution_count": null,
   "id": "28bec2b3-0814-4944-b234-999fe8d85dfb",
   "metadata": {},
   "outputs": [],
   "source": []
  },
  {
   "cell_type": "code",
   "execution_count": null,
   "id": "1172a260-6f85-4b95-9502-1b67f67adf34",
   "metadata": {},
   "outputs": [],
   "source": []
  }
 ],
 "metadata": {
  "kernelspec": {
   "display_name": "Python 3 (ipykernel)",
   "language": "python",
   "name": "python3"
  },
  "language_info": {
   "codemirror_mode": {
    "name": "ipython",
    "version": 3
   },
   "file_extension": ".py",
   "mimetype": "text/x-python",
   "name": "python",
   "nbconvert_exporter": "python",
   "pygments_lexer": "ipython3",
   "version": "3.13.5"
  }
 },
 "nbformat": 4,
 "nbformat_minor": 5
}
