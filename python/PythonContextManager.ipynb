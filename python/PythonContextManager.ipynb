{
 "cells": [
  {
   "cell_type": "markdown",
   "id": "d7ae43be-3613-4851-b885-fcd13dd3ca93",
   "metadata": {},
   "source": [
    "**Context Managers ('WITH' keyword)**: for managing the resources efficiently ('WITH' keyword)\n",
    "\n",
    "2 special methods are available when using 'WITH':\n",
    "- __enter__() : This method is called when execution enters the context of the with statement.\n",
    "- __exit__()  : This method is called when execution leaves the context of the with statement, regardless of whether it exits normally or due to an exception."
   ]
  },
  {
   "cell_type": "code",
   "execution_count": 4,
   "id": "0acefe20-c62d-407f-a3c7-418dd586c676",
   "metadata": {},
   "outputs": [
    {
     "name": "stdout",
     "output_type": "stream",
     "text": [
      "Name,Department,Age,Salary,Gender\n",
      "Alice,HR,25,50000,F\n",
      "Bob,IT,30,60000,M\n",
      "Charlie,IT,35,75000,M\n",
      "David,Finance,40,80000,M\n",
      "Eva,HR,29,52000,F\n",
      "Frank,Finance,50,90000,M\n",
      "Grace,IT,31,65000,F\n",
      "\n"
     ]
    }
   ],
   "source": [
    "# std example:\n",
    "\n",
    "with open('./CSV/employee.csv', 'r') as f:\n",
    "    res = f.read()\n",
    "    \n",
    "print(res)"
   ]
  },
  {
   "cell_type": "code",
   "execution_count": 16,
   "id": "2a21978f-c905-4a2f-a95a-57ed44cadf24",
   "metadata": {},
   "outputs": [
    {
     "name": "stdout",
     "output_type": "stream",
     "text": [
      "----entered WITH.. \n",
      "----closed file.. \n",
      "----exception occured MyException \n",
      "Name,Department,Age,Salary,Gender\n",
      "Alice,HR,25,50000,F\n",
      "Bob,IT,30,60000,M\n",
      "Charlie,IT,35,75000,M\n",
      "David,Finance,40,80000,M\n",
      "Eva,HR,29,52000,F\n",
      "Frank,Finance,50,90000,M\n",
      "Grace,IT,31,65000,F\n",
      "\n"
     ]
    }
   ],
   "source": [
    "# customized example:\n",
    "class MyContextManager:\n",
    "    def __init__(self, file_name, mode):\n",
    "        self.file_name = file_name\n",
    "        self.mode = mode\n",
    "\n",
    "    def __enter__(self):\n",
    "        print(f'----entered WITH.. ')\n",
    "        self.file = open(self.file_name, self.mode)\n",
    "        return self.file\n",
    "\n",
    "    def __exit__(self, exception_type, exception_val, traceback):\n",
    "        self.file.close()\n",
    "        print(f'----closed file.. ')\n",
    "        if exception_type:\n",
    "            print(f'----exception occured {exception_val} ')\n",
    "            return True   # suppress exception\n",
    "        \n",
    "        \n",
    "with MyContextManager('./CSV/employee.csv', 'r') as f:\n",
    "    res = f.read()\n",
    "    raise ValueError('MyException')\n",
    "print(res)"
   ]
  },
  {
   "cell_type": "code",
   "execution_count": null,
   "id": "cf5f5d08-7a79-4c68-ace1-229c41950926",
   "metadata": {},
   "outputs": [],
   "source": []
  }
 ],
 "metadata": {
  "kernelspec": {
   "display_name": "Python 3 (ipykernel)",
   "language": "python",
   "name": "python3"
  },
  "language_info": {
   "codemirror_mode": {
    "name": "ipython",
    "version": 3
   },
   "file_extension": ".py",
   "mimetype": "text/x-python",
   "name": "python",
   "nbconvert_exporter": "python",
   "pygments_lexer": "ipython3",
   "version": "3.13.5"
  }
 },
 "nbformat": 4,
 "nbformat_minor": 5
}
