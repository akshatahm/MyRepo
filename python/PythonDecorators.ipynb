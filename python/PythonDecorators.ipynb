{
 "cells": [
  {
   "cell_type": "markdown",
   "id": "f0a83c3c-0012-4f39-8235-257652b24405",
   "metadata": {},
   "source": [
    "python decorator example"
   ]
  },
  {
   "cell_type": "code",
   "execution_count": null,
   "id": "77f1bcf7-20a7-4169-9b10-f6d3029f92c7",
   "metadata": {},
   "outputs": [],
   "source": [
    "def log(fun):\n",
    "    def wrapper(*args, **kwargs):\n",
    "        print(f' Logging function: {fun.__name}, args:{args}, kwargs:{kwargs}')\n",
    "\n",
    "    return wrapper\n",
    "\n",
    "\n",
    "@log\n",
    "def add(a,b):\n",
    "    return a+b\n",
    "\n",
    "add(5,2)"
   ]
  }
 ],
 "metadata": {
  "kernelspec": {
   "display_name": "Python 3 (ipykernel)",
   "language": "python",
   "name": "python3"
  },
  "language_info": {
   "codemirror_mode": {
    "name": "ipython",
    "version": 3
   },
   "file_extension": ".py",
   "mimetype": "text/x-python",
   "name": "python",
   "nbconvert_exporter": "python",
   "pygments_lexer": "ipython3",
   "version": "3.13.5"
  }
 },
 "nbformat": 4,
 "nbformat_minor": 5
}
