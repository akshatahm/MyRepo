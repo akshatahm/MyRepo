{
 "cells": [
  {
   "cell_type": "markdown",
   "id": "03acca8b-fd0d-4ee9-95f2-77339c7229e4",
   "metadata": {},
   "source": [
    "Python generators ( memory efficient fns: by returning the results as and when computed):\n",
    "- **yield** keyword\n",
    "- () in list comprehensions"
   ]
  },
  {
   "cell_type": "code",
   "execution_count": 3,
   "id": "440cc22e-17f4-4c2f-a524-6a38ca905a27",
   "metadata": {},
   "outputs": [
    {
     "name": "stdout",
     "output_type": "stream",
     "text": [
      "processing 10\n",
      "10\n",
      "processing 20\n",
      "20\n",
      "processing 30\n",
      "30\n",
      "processing 40\n",
      "40\n",
      "*************************\n",
      "processing 10\n",
      "processing 20\n",
      "processing 30\n",
      "processing 40\n",
      "[10, 20, 30, 40]\n"
     ]
    }
   ],
   "source": [
    "def fun1(lst):\n",
    "    for l in lst:\n",
    "        print(f'processing {l}')\n",
    "        yield l\n",
    "\n",
    "def fun2(lst):\n",
    "    res = []\n",
    "    for l in lst:\n",
    "        print(f'processing {l}')\n",
    "        res.append(l)\n",
    "    return res\n",
    "\n",
    "def display(lst):\n",
    "    for l in lst:\n",
    "        print(l)\n",
    "\n",
    "if __name__=='__main__':\n",
    "    ls =[10,20,30,40]\n",
    "    \n",
    "    res = fun1(ls)\n",
    "    display(res)\n",
    "\n",
    "    print('*'*25)\n",
    "    \n",
    "    res = fun2(ls)\n",
    "    print(res)\n",
    "        "
   ]
  },
  {
   "cell_type": "code",
   "execution_count": null,
   "id": "3351f6b2-b17f-4d9e-9a73-5132644f80bf",
   "metadata": {},
   "outputs": [],
   "source": []
  },
  {
   "cell_type": "markdown",
   "id": "84de308a-d78b-460f-84b5-88364b654a3a",
   "metadata": {},
   "source": [
    "Using list comprehension with ():"
   ]
  },
  {
   "cell_type": "code",
   "execution_count": 13,
   "id": "4ae3bc07-ea3c-4a7c-a038-cf3f36421a06",
   "metadata": {},
   "outputs": [
    {
     "name": "stdout",
     "output_type": "stream",
     "text": [
      "10\tres: 10\n",
      "20\tres: 20\n",
      "30\tres: 30\n",
      "40\tres: 40\n"
     ]
    }
   ],
   "source": [
    "def fun3(l):\n",
    "    print(l, end='\\t')\n",
    "    return l\n",
    "\n",
    "res = (fun3(l) for l in ls)\n",
    "\n",
    "for r in res:\n",
    "    print('res:',r, end='\\n')"
   ]
  },
  {
   "cell_type": "code",
   "execution_count": 15,
   "id": "56a78526-3eda-411d-9fc1-4d01805bd4e3",
   "metadata": {},
   "outputs": [
    {
     "name": "stdout",
     "output_type": "stream",
     "text": [
      "10\t20\t30\t40\tres: [10, 20, 30, 40]\n"
     ]
    }
   ],
   "source": [
    "res = [fun3(l) for l in ls]\n",
    "print('res:',res, end='\\n')"
   ]
  }
 ],
 "metadata": {
  "kernelspec": {
   "display_name": "Python 3 (ipykernel)",
   "language": "python",
   "name": "python3"
  },
  "language_info": {
   "codemirror_mode": {
    "name": "ipython",
    "version": 3
   },
   "file_extension": ".py",
   "mimetype": "text/x-python",
   "name": "python",
   "nbconvert_exporter": "python",
   "pygments_lexer": "ipython3",
   "version": "3.13.5"
  }
 },
 "nbformat": 4,
 "nbformat_minor": 5
}
