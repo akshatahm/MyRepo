{
 "cells": [
  {
   "cell_type": "code",
   "execution_count": 28,
   "id": "a98ab42f-bec5-4d21-a282-a3cbb3effe04",
   "metadata": {},
   "outputs": [
    {
     "data": {
      "text/plain": [
       "('Pinky', 20)"
      ]
     },
     "execution_count": 28,
     "metadata": {},
     "output_type": "execute_result"
    }
   ],
   "source": [
    "# TRICKY  multiple return values in python usage with **kwargs\n",
    "def fun1 (**kwargs):\n",
    " res =()\n",
    " for v in kwargs.values():\n",
    "     res = res + (v,)    # tuples need ',' to be appended if its only single element\n",
    " return res\n",
    "\n",
    "name, age = fun1(fname='Pinky', age=20)  # see the assignments\n",
    "\n",
    "name, age"
   ]
  },
  {
   "cell_type": "code",
   "execution_count": 21,
   "id": "19cc9d9a-30bc-4c89-b4cf-fcfb87cee5d4",
   "metadata": {},
   "outputs": [
    {
     "data": {
      "text/plain": [
       "(5,)"
      ]
     },
     "execution_count": 21,
     "metadata": {},
     "output_type": "execute_result"
    }
   ],
   "source": [
    "res =()\n",
    "res =res+(5,)\n",
    "res"
   ]
  },
  {
   "cell_type": "code",
   "execution_count": null,
   "id": "c6d928a6-4f03-4aad-9a6f-7eb9faf8c1ad",
   "metadata": {},
   "outputs": [],
   "source": []
  }
 ],
 "metadata": {
  "kernelspec": {
   "display_name": "Python 3 (ipykernel)",
   "language": "python",
   "name": "python3"
  },
  "language_info": {
   "codemirror_mode": {
    "name": "ipython",
    "version": 3
   },
   "file_extension": ".py",
   "mimetype": "text/x-python",
   "name": "python",
   "nbconvert_exporter": "python",
   "pygments_lexer": "ipython3",
   "version": "3.13.5"
  }
 },
 "nbformat": 4,
 "nbformat_minor": 5
}
